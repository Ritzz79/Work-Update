{
  "nbformat": 4,
  "nbformat_minor": 0,
  "metadata": {
    "colab": {
      "name": "Form16-extraction-Yolov3-PyTorch.ipynb",
      "provenance": [],
      "collapsed_sections": [],
      "include_colab_link": true
    },
    "kernelspec": {
      "name": "python3",
      "display_name": "Python 3"
    },
    "accelerator": "GPU"
  },
  "cells": [
    {
      "cell_type": "markdown",
      "metadata": {
        "id": "view-in-github",
        "colab_type": "text"
      },
      "source": [
        "<a href=\"https://colab.research.google.com/github/Ritzz79/Work-Update/blob/main/Form16_extraction_Yolov3_PyTorch.ipynb\" target=\"_parent\"><img src=\"https://colab.research.google.com/assets/colab-badge.svg\" alt=\"Open In Colab\"/></a>"
      ]
    },
    {
      "cell_type": "markdown",
      "source": [
        "#**Work to be Done :** \n",
        "* Create a Flask Application for getting input (.jpg,.jpeg,.pdf and .tiff) from the user and return the extracted entities listed below. \n",
        "* Push the code into your personal Git repository ( Do not push the datasets in the Repo )\n",
        " "
      ],
      "metadata": {
        "id": "-qpKJfsaW5jB"
      }
    },
    {
      "cell_type": "markdown",
      "source": [
        "# **Entities to be extracted :**\n",
        "* Certificate Number\n",
        "* Last Updated\n",
        "* PAN Number\n",
        "* Deducter PAN Number\n",
        "* Deducter TAN Number\n",
        "* Assessment Year\n",
        "* Period with Employer\n",
        "* Name & Address_Employee\n",
        "* Name & Address_Employer\n",
        "* Aggregate\n",
        "* Gross Salary\n",
        "* Total tax payable\n",
        "* Net Salary\n",
        "* Quarter\n",
        "\n",
        "\n"
      ],
      "metadata": {
        "id": "KjeatKvsW60G"
      }
    },
    {
      "cell_type": "markdown",
      "source": [
        "## **Target Date of Completion:** 14th July 2022\n",
        "## **For Queries and support:** @Prem Shanker or @Ranjithkumar Rajagopal \n",
        "## Daily Updates to be added here : https://forms.gle/nBtAt42SwciJp6ef6"
      ],
      "metadata": {
        "id": "aXmE4AKcXAPB"
      }
    },
    {
      "cell_type": "code",
      "source": [
        "from google.colab import drive\n",
        "drive.mount('/content/drive')\n",
        "!ls \"/content/drive/MyDrive/Demo_dataset(Findocs)/Form_16\""
      ],
      "metadata": {
        "colab": {
          "base_uri": "https://localhost:8080/"
        },
        "id": "bIaPjWzvXBUh",
        "outputId": "4281556c-8b62-4c19-feef-7459e95d0bb0"
      },
      "execution_count": null,
      "outputs": [
        {
          "output_type": "stream",
          "name": "stdout",
          "text": [
            "Mounted at /content/drive\n",
            "'financial_document_form 16_2019_11_26-12_44_23_404315_.jpg'\n",
            "'financial_document_form 16_2019_11_26-12_44_23_404516_.jpg'\n",
            "'financial_document_form 16_2019_11_26-12_44_23_406525_.jpg'\n",
            "'financial_document_form 16_2019_11_26-12_44_23_406781_.jpg'\n",
            "'financial_document_form 16_2019_11_26-12_44_23_407029_.pdf'\n",
            "'financial_document_form 16_2019_11_26-12_44_23_407277_.jpg'\n",
            "'financial_document_form 16_2019_11_26-12_44_23_408725_.jpg'\n",
            "'financial_document_form 16_2019_11_26-12_44_23_413679_.pdf'\n",
            "'financial_document_form 16_2019_11_26-12_44_23_421285_.pdf'\n",
            "'financial_document_form 16_2019_11_26-12_44_23_479988_.pdf'\n",
            "'financial_document_form 16_2019_11_26-12_44_23_565320_.PDF'\n",
            "'financial_document_form 16_2019_11_26-12_44_23_568244_.jpg'\n",
            "'financial_document_form 16_2019_11_26-12_44_23_568541_.jpg'\n",
            "'financial_document_form 16_2019_11_26-12_44_23_568743_.jpg'\n",
            "'financial_document_form 16_2019_11_26-12_44_23_568926_.jpg'\n",
            "'financial_document_form 16_2019_11_26-12_44_23_569090_.pdf'\n",
            "'financial_document_form 16_2019_11_26-12_44_23_570309_.pdf'\n",
            "'financial_document_form 16_2019_11_26-12_44_23_570731_.jpg'\n",
            "'financial_document_form 16_2019_11_26-12_44_23_573408_.pdf'\n",
            "'financial_document_form 16_2019_11_26-12_44_23_573833_.jpg'\n",
            "'financial_document_form 16_2019_11_26-12_44_23_575882_.pdf'\n",
            "'financial_document_form 16_2019_11_26-12_44_23_576237_.jpg'\n",
            "'financial_document_form 16_2019_11_26-12_44_23_576851_.pdf'\n",
            "'financial_document_form 16_2019_11_26-12_44_23_586289_.jpg'\n",
            "'financial_document_form 16_2019_11_26-12_44_23_597570_.pdf'\n",
            "'financial_document_form 16_2019_11_26-12_44_23_656769_.PDF'\n",
            "'financial_document_form 16_2019_11_26-12_44_23_657748_.PDF'\n",
            "'financial_document_form 16_2019_11_26-12_44_23_659973_.pdf'\n"
          ]
        }
      ]
    },
    {
      "cell_type": "code",
      "metadata": {
        "id": "KPLc9DEzIwMZ",
        "outputId": "c7374479-f02b-4b07-f208-a5c8a1544582",
        "colab": {
          "base_uri": "https://localhost:8080/",
          "height": 34
        }
      },
      "source": [
        "import os\n",
        "import torch\n",
        "from IPython.display import Image, clear_output \n",
        "print('PyTorch %s %s' % (torch.__version__, torch.cuda.get_device_properties(0) if torch.cuda.is_available() else 'CPU'))"
      ],
      "execution_count": null,
      "outputs": [
        {
          "output_type": "stream",
          "text": [
            "PyTorch 1.4.0 _CudaDeviceProperties(name='Tesla P100-PCIE-16GB', major=6, minor=0, total_memory=16280MB, multi_processor_count=56)\n"
          ],
          "name": "stdout"
        }
      ]
    },
    {
      "cell_type": "code",
      "metadata": {
        "id": "VHS_o3KGIyXm",
        "outputId": "6c27a504-452c-4184-c0af-81d7db2ec0cb",
        "colab": {
          "base_uri": "https://localhost:8080/",
          "height": 105
        }
      },
      "source": [
        "!git clone https://github.com/roboflow-ai/yolov3  # clone"
      ],
      "execution_count": null,
      "outputs": [
        {
          "output_type": "stream",
          "text": [
            "Cloning into 'yolov3'...\n",
            "remote: Enumerating objects: 8436, done.\u001b[K\n",
            "remote: Total 8436 (delta 0), reused 0 (delta 0), pack-reused 8436\u001b[K\n",
            "Receiving objects: 100% (8436/8436), 6.80 MiB | 32.85 MiB/s, done.\n",
            "Resolving deltas: 100% (5819/5819), done.\n"
          ],
          "name": "stdout"
        }
      ]
    },
    {
      "cell_type": "markdown",
      "metadata": {
        "id": "DdZoG7inXjbS"
      },
      "source": [
        "## Get Data from Roboflow\n",
        "\n",
        "Create an export from Roboflow. **Select \"YOLO Darknet\" as the export type.**\n",
        "\n",
        "Our labels will be formatted to our model's architecture."
      ]
    },
    {
      "cell_type": "code",
      "metadata": {
        "id": "r1E1o9PYU0f5"
      },
      "source": [
        "# REPLACE THIS LINK WITH YOUR OWN\n",
        "!curl -L \"https://public.roboflow.com/ds/WA9Lrc1j9H?key=VUPbo6qWrD\" > roboflow.zip; unzip roboflow.zip; rm roboflow.zip\n"
      ],
      "execution_count": null,
      "outputs": []
    },
    {
      "cell_type": "markdown",
      "metadata": {
        "id": "jqdjyjCsX1yn"
      },
      "source": [
        "## Organize data and labels for Ultralytics YOLOv3 Implementation\n",
        "\n",
        "Ultalytics's implemention of YOLOv3 calls for [a specific file management](https://github.com/ultralytics/yolov3/wiki/Train-Custom-Data) where our images are in a folder called `images` and corresponding labels in a folder called `labels`. The image and label names must match identically. Fortunately, our files are named appropriately from Roboflow.\n",
        "\n",
        "We need to reorganize the folder structure slightly."
      ]
    },
    {
      "cell_type": "code",
      "metadata": {
        "id": "FbtE_d7MJG8p",
        "outputId": "71afa17a-7556-41c7-cbe6-f2d452fd9974",
        "colab": {
          "base_uri": "https://localhost:8080/",
          "height": 34
        }
      },
      "source": [
        "%cd train"
      ],
      "execution_count": null,
      "outputs": [
        {
          "output_type": "stream",
          "text": [
            "/content/valid/train\n"
          ],
          "name": "stdout"
        }
      ]
    },
    {
      "cell_type": "code",
      "metadata": {
        "id": "yh2wijsTYQRf"
      },
      "source": [
        "%ls"
      ],
      "execution_count": null,
      "outputs": []
    },
    {
      "cell_type": "code",
      "metadata": {
        "id": "A12oR638YeRB"
      },
      "source": [
        "%mkdir labels\n",
        "%mkdir images"
      ],
      "execution_count": null,
      "outputs": []
    },
    {
      "cell_type": "code",
      "metadata": {
        "id": "CZnDDHXxf-yz"
      },
      "source": [
        "%mv *.jpg ./images/\n",
        "%mv *.txt ./labels/"
      ],
      "execution_count": null,
      "outputs": []
    },
    {
      "cell_type": "code",
      "metadata": {
        "id": "MDXCKc84mCuB",
        "outputId": "601c0cb8-640f-4605-dd7f-0ffee79001d4",
        "colab": {
          "base_uri": "https://localhost:8080/",
          "height": 34
        }
      },
      "source": [
        "%cd images"
      ],
      "execution_count": null,
      "outputs": [
        {
          "output_type": "stream",
          "text": [
            "/content/valid/train/images\n"
          ],
          "name": "stdout"
        }
      ]
    },
    {
      "cell_type": "code",
      "metadata": {
        "id": "jCDdU0ZzmELL"
      },
      "source": [
        "# create Ultralytics specific text file of training images\n",
        "file = open(\"train_images_roboflow.txt\", \"w\") \n",
        "for root, dirs, files in os.walk(\".\"):\n",
        "    for filename in files:\n",
        "      # print(\"../train/images/\" + filename)\n",
        "      if filename == \"train_images_roboflow.txt\":\n",
        "        pass\n",
        "      else:\n",
        "        file.write(\"../train/images/\" + filename + \"\\n\")\n",
        "file.close()"
      ],
      "execution_count": null,
      "outputs": []
    },
    {
      "cell_type": "code",
      "metadata": {
        "id": "ZM13TrHOmPLF"
      },
      "source": [
        "%cat train_images_roboflow.txt"
      ],
      "execution_count": null,
      "outputs": []
    },
    {
      "cell_type": "code",
      "metadata": {
        "id": "iUO7VlGigRZO",
        "outputId": "28c05974-0771-41b5-8ead-62dea5978621",
        "colab": {
          "base_uri": "https://localhost:8080/",
          "height": 34
        }
      },
      "source": [
        "%cd ../../valid"
      ],
      "execution_count": null,
      "outputs": [
        {
          "output_type": "stream",
          "text": [
            "/content/valid/valid\n"
          ],
          "name": "stdout"
        }
      ]
    },
    {
      "cell_type": "code",
      "metadata": {
        "id": "UbNBFoRHgVl-"
      },
      "source": [
        "%mkdir labels\n",
        "%mkdir images"
      ],
      "execution_count": null,
      "outputs": []
    },
    {
      "cell_type": "code",
      "metadata": {
        "id": "LGPh9B4ggVom"
      },
      "source": [
        "%mv *.jpg ./images/\n",
        "%mv *.txt ./labels/"
      ],
      "execution_count": null,
      "outputs": []
    },
    {
      "cell_type": "code",
      "metadata": {
        "id": "QvP5SAd0mIXc",
        "outputId": "96e17ab9-60e0-47b9-efa9-9ef07e94f52d",
        "colab": {
          "base_uri": "https://localhost:8080/",
          "height": 34
        }
      },
      "source": [
        "%cd images"
      ],
      "execution_count": null,
      "outputs": [
        {
          "output_type": "stream",
          "text": [
            "/content/valid/valid/images\n"
          ],
          "name": "stdout"
        }
      ]
    },
    {
      "cell_type": "code",
      "metadata": {
        "id": "HoX2KlMbmKGM"
      },
      "source": [
        "# create Ultralytics specific text file of validation images\n",
        "file = open(\"valid_images_roboflow.txt\", \"w\") \n",
        "for root, dirs, files in os.walk(\".\"):\n",
        "    for filename in files:\n",
        "      # print(\"../train/images/\" + filename)\n",
        "      if filename == \"valid_images_roboflow.txt\":\n",
        "        pass\n",
        "      else:\n",
        "        file.write(\"../valid/images/\" + filename + \"\\n\")\n",
        "file.close()"
      ],
      "execution_count": null,
      "outputs": []
    },
    {
      "cell_type": "code",
      "metadata": {
        "id": "vZDI0ghdhy4i"
      },
      "source": [
        "%cat valid_images_roboflow.txt"
      ],
      "execution_count": null,
      "outputs": []
    },
    {
      "cell_type": "markdown",
      "metadata": {
        "id": "N_dkaQmirgA-"
      },
      "source": [
        "## Set up model config\n",
        "\n",
        "We should configure our model for training.\n",
        "\n",
        "This requires editing the `roboflow.data` file, which tells our model where to find our data, our numbers of classes, and our class label names.\n",
        "\n",
        "Our paths for our labels and images are correct.\n",
        "\n",
        "But we need to update our class names. That's handled below..\n",
        "\n",
        "\n"
      ]
    },
    {
      "cell_type": "code",
      "metadata": {
        "id": "55J0O7LRuoTv",
        "outputId": "4d3745e5-2a4c-4abc-b3d6-992674344995",
        "colab": {
          "base_uri": "https://localhost:8080/",
          "height": 34
        }
      },
      "source": [
        "%cd ../../yolov3/data"
      ],
      "execution_count": null,
      "outputs": [
        {
          "output_type": "stream",
          "text": [
            "/content/valid/yolov3/data\n"
          ],
          "name": "stdout"
        }
      ]
    },
    {
      "cell_type": "code",
      "metadata": {
        "id": "IaVwHzdprdSN",
        "outputId": "3b85304c-3b1a-49a5-97b6-fd50356b889e",
        "colab": {
          "base_uri": "https://localhost:8080/",
          "height": 230
        }
      },
      "source": [
        "# display class labels imported from Roboflow\n",
        "%cat ../../train/_darknet.labels"
      ],
      "execution_count": null,
      "outputs": [
        {
          "output_type": "stream",
          "text": [
            "black-bishop\n",
            "black-king\n",
            "black-knight\n",
            "black-pawn\n",
            "black-queen\n",
            "black-rook\n",
            "white-bishop\n",
            "white-king\n",
            "white-knight\n",
            "white-pawn\n",
            "white-queen\n",
            "white-rook"
          ],
          "name": "stdout"
        }
      ]
    },
    {
      "cell_type": "code",
      "metadata": {
        "id": "Kq-kLpfNlZTQ"
      },
      "source": [
        "# convert .labels to .names for Ultralytics specification\n",
        "%cat ../../train/_darknet.labels > ../../train/roboflow_data.names"
      ],
      "execution_count": null,
      "outputs": []
    },
    {
      "cell_type": "code",
      "metadata": {
        "id": "gol1kFpN0FQh"
      },
      "source": [
        "def get_num_classes(labels_file_path):\n",
        "    classes = 0\n",
        "    with open(labels_file_path, 'r') as f:\n",
        "      for line in f:\n",
        "        classes += 1\n",
        "    return classes"
      ],
      "execution_count": null,
      "outputs": []
    },
    {
      "cell_type": "code",
      "metadata": {
        "id": "yG4X2vQh0rZf"
      },
      "source": [
        "# update the roboflow.data file with correct number of classes\n",
        "import re\n",
        "\n",
        "num_classes = get_num_classes(\"../../train/_darknet.labels\")\n",
        "with open(\"roboflow.data\") as f:\n",
        "    s = f.read()\n",
        "with open(\"roboflow.data\", 'w') as f:\n",
        "    \n",
        "    # Set number of classes num_classes.\n",
        "    s = re.sub('classes=[0-9]+',\n",
        "               'classes={}'.format(num_classes), s)\n",
        "    f.write(s)"
      ],
      "execution_count": null,
      "outputs": []
    },
    {
      "cell_type": "code",
      "metadata": {
        "id": "un6Or-F31M1Z",
        "outputId": "d1c066e7-dfe9-46e3-98de-40537ea09c2a",
        "colab": {
          "base_uri": "https://localhost:8080/",
          "height": 87
        }
      },
      "source": [
        "# display updated number of classes\n",
        "%cat roboflow.data"
      ],
      "execution_count": null,
      "outputs": [
        {
          "output_type": "stream",
          "text": [
            "classes=12\n",
            "train=../train/images/train_images_roboflow.txt\n",
            "valid=../valid/images/valid_images_roboflow.txt\n",
            "names=../train/roboflow_data.names\n"
          ],
          "name": "stdout"
        }
      ]
    },
    {
      "cell_type": "markdown",
      "metadata": {
        "id": "iqOa_ogHqhOg"
      },
      "source": [
        "## Training our model\n",
        "\n",
        "Once we have our data prepped, we'll train our model using the train script.\n",
        "\n",
        "By default, this script trains for 300 epochs."
      ]
    },
    {
      "cell_type": "code",
      "metadata": {
        "id": "3pEzmWztuevf",
        "outputId": "fbb7df96-e549-4cc1-f938-dc1584709f98",
        "colab": {
          "base_uri": "https://localhost:8080/",
          "height": 34
        }
      },
      "source": [
        "%cd ../"
      ],
      "execution_count": null,
      "outputs": [
        {
          "output_type": "stream",
          "text": [
            "/content/valid/yolov3\n"
          ],
          "name": "stdout"
        }
      ]
    },
    {
      "cell_type": "code",
      "source": [
        "!wget -c https://pjreddie.com/media/files/yolov3.weights\n",
        "!wget -c https://pjreddie.com/media/files/yolov3-tiny.weights\n",
        "!wget -c https://pjreddie.com/media/files/yolov3-spp.weights"
      ],
      "metadata": {
        "id": "D6mmI9tId53g",
        "outputId": "e9faf7b4-9873-436a-ff52-9d1961e4047c",
        "colab": {
          "base_uri": "https://localhost:8080/"
        }
      },
      "execution_count": null,
      "outputs": [
        {
          "output_type": "stream",
          "name": "stdout",
          "text": [
            "--2022-07-06 07:44:45--  https://pjreddie.com/media/files/yolov3.weights\n",
            "Resolving pjreddie.com (pjreddie.com)... 128.208.4.108\n",
            "Connecting to pjreddie.com (pjreddie.com)|128.208.4.108|:443... connected.\n",
            "HTTP request sent, awaiting response... 200 OK\n",
            "Length: 248007048 (237M) [application/octet-stream]\n",
            "Saving to: ‘yolov3.weights’\n",
            "\n",
            "yolov3.weights      100%[===================>] 236.52M  17.4MB/s    in 14s     \n",
            "\n",
            "2022-07-06 07:45:00 (16.5 MB/s) - ‘yolov3.weights’ saved [248007048/248007048]\n",
            "\n",
            "--2022-07-06 07:45:01--  https://pjreddie.com/media/files/yolov3-tiny.weights\n",
            "Resolving pjreddie.com (pjreddie.com)... 128.208.4.108\n",
            "Connecting to pjreddie.com (pjreddie.com)|128.208.4.108|:443... connected.\n",
            "HTTP request sent, awaiting response... 200 OK\n",
            "Length: 35434956 (34M) [application/octet-stream]\n",
            "Saving to: ‘yolov3-tiny.weights’\n",
            "\n",
            "yolov3-tiny.weights 100%[===================>]  33.79M  12.4MB/s    in 2.7s    \n",
            "\n",
            "2022-07-06 07:45:04 (12.4 MB/s) - ‘yolov3-tiny.weights’ saved [35434956/35434956]\n",
            "\n",
            "--2022-07-06 07:45:04--  https://pjreddie.com/media/files/yolov3-spp.weights\n",
            "Resolving pjreddie.com (pjreddie.com)... 128.208.4.108\n",
            "Connecting to pjreddie.com (pjreddie.com)|128.208.4.108|:443... connected.\n",
            "HTTP request sent, awaiting response... 200 OK\n",
            "Length: 252209544 (241M) [application/octet-stream]\n",
            "Saving to: ‘yolov3-spp.weights’\n",
            "\n",
            "yolov3-spp.weights  100%[===================>] 240.53M  18.3MB/s    in 14s     \n",
            "\n",
            "2022-07-06 07:45:19 (17.0 MB/s) - ‘yolov3-spp.weights’ saved [252209544/252209544]\n",
            "\n"
          ]
        }
      ]
    },
    {
      "cell_type": "code",
      "metadata": {
        "outputId": "67944663-cbab-45bc-a20f-aa7115c088d2",
        "colab": {
          "base_uri": "https://localhost:8080/"
        },
        "id": "Fhe4tljFVNTC"
      },
      "source": [
        "!python3 train.py --data data/roboflow.data --epochs 10 --weights weights/yolov3-tiny.weights --cfg cfg/yolov3-tiny.cfg  "
      ],
      "execution_count": null,
      "outputs": [
        {
          "output_type": "stream",
          "name": "stdout",
          "text": [
            "Namespace(accumulate=4, adam=False, batch_size=16, bucket='', cache_images=False, cfg='cfg/yolov3-tiny.cfg', data='data/roboflow.data', device='', epochs=10, evolve=False, img_size=[416], multi_scale=False, name='', nosave=False, notest=False, rect=False, resume=False, single_cls=False, var=None, weights='weights/yolov3-tiny.weights')\n",
            "Using CUDA device0 _CudaDeviceProperties(name='Tesla T4', total_memory=15109MB)\n",
            "\n",
            "WARNING: smart bias initialization failure.\n",
            "WARNING: smart bias initialization failure.\n",
            "Model Summary: 37 layers, 8.85237e+06 parameters, 8.85237e+06 gradients\n",
            "Caching labels (606 found, 0 missing, 0 empty, 3 duplicate, for 606 images): 100% 606/606 [00:00<00:00, 1275.17it/s]\n",
            "Caching labels (58 found, 0 missing, 0 empty, 0 duplicate, for 58 images): 100% 58/58 [00:00<00:00, 1088.50it/s]\n",
            "Using 2 dataloader workers\n",
            "Starting training for 10 epochs...\n",
            "\n",
            "     Epoch   gpu_mem      GIoU       obj       cls     total   targets  img_size\n",
            "  0% 0/38 [00:00<?, ?it/s]/usr/local/lib/python3.7/dist-packages/torch/functional.py:568: UserWarning: torch.meshgrid: in an upcoming release, it will be required to pass the indexing argument. (Triggered internally at  ../aten/src/ATen/native/TensorShape.cpp:2228.)\n",
            "  return _VF.meshgrid(tensors, **kwargs)  # type: ignore[attr-defined]\n",
            "/usr/local/lib/python3.7/dist-packages/torch/cuda/memory.py:386: FutureWarning: torch.cuda.memory_cached has been renamed to torch.cuda.memory_reserved\n",
            "  FutureWarning)\n",
            "       0/9     2.16G     0.956      4.93      6.56      12.4       143       416: 100% 38/38 [00:15<00:00,  2.44it/s]\n",
            "               Class    Images   Targets         P         R   mAP@0.5        F1: 100% 2/2 [00:02<00:00,  1.47s/it]\n",
            "                 all        58       386     0.159      0.15     0.088    0.0862\n",
            "\n",
            "     Epoch   gpu_mem      GIoU       obj       cls     total   targets  img_size\n",
            "  0% 0/38 [00:00<?, ?it/s]/usr/local/lib/python3.7/dist-packages/torch/cuda/memory.py:386: FutureWarning: torch.cuda.memory_cached has been renamed to torch.cuda.memory_reserved\n",
            "  FutureWarning)\n",
            "       1/9     2.87G     0.809      3.17      3.65      7.63       170       416: 100% 38/38 [00:12<00:00,  2.96it/s]\n",
            "               Class    Images   Targets         P         R   mAP@0.5        F1: 100% 2/2 [00:00<00:00,  2.48it/s]\n",
            "                 all        58       386     0.181     0.373     0.189     0.181\n",
            "\n",
            "     Epoch   gpu_mem      GIoU       obj       cls     total   targets  img_size\n",
            "       2/9     2.87G     0.754      2.73      2.73      6.22       181       416: 100% 38/38 [00:13<00:00,  2.89it/s]\n",
            "               Class    Images   Targets         P         R   mAP@0.5        F1: 100% 2/2 [00:00<00:00,  2.44it/s]\n",
            "                 all        58       386     0.241     0.385     0.276     0.176\n",
            "\n",
            "Model Bias Summary:    layer        regression        objectness    classification\n",
            "                          16      -0.07+/-0.13      -3.86+/-0.43      -0.25+/-0.11 \n",
            "                          23      -0.08+/-0.12      -3.92+/-0.35      -0.31+/-0.13 \n",
            "\n",
            "     Epoch   gpu_mem      GIoU       obj       cls     total   targets  img_size\n",
            "       3/9     2.87G     0.721      2.17      2.32      5.21       206       416: 100% 38/38 [00:12<00:00,  2.97it/s]\n",
            "               Class    Images   Targets         P         R   mAP@0.5        F1: 100% 2/2 [00:00<00:00,  2.50it/s]\n",
            "                 all        58       386     0.335     0.344     0.309     0.212\n",
            "\n",
            "     Epoch   gpu_mem      GIoU       obj       cls     total   targets  img_size\n",
            "       4/9     2.87G     0.704      1.98      2.08      4.77       206       416: 100% 38/38 [00:12<00:00,  2.94it/s]\n",
            "               Class    Images   Targets         P         R   mAP@0.5        F1: 100% 2/2 [00:00<00:00,  2.45it/s]\n",
            "                 all        58       386     0.354     0.369     0.349     0.243\n",
            "\n",
            "     Epoch   gpu_mem      GIoU       obj       cls     total   targets  img_size\n",
            "       5/9     2.87G     0.682      1.98      1.97      4.64       142       416: 100% 38/38 [00:13<00:00,  2.76it/s]\n",
            "               Class    Images   Targets         P         R   mAP@0.5        F1: 100% 2/2 [00:00<00:00,  2.40it/s]\n",
            "                 all        58       386     0.359     0.464     0.419     0.296\n",
            "\n",
            "     Epoch   gpu_mem      GIoU       obj       cls     total   targets  img_size\n",
            "       6/9     2.87G     0.671      1.97      1.89      4.53       190       416: 100% 38/38 [00:12<00:00,  2.97it/s]\n",
            "               Class    Images   Targets         P         R   mAP@0.5        F1: 100% 2/2 [00:00<00:00,  2.40it/s]\n",
            "                 all        58       386     0.388     0.548     0.472     0.379\n",
            "\n",
            "     Epoch   gpu_mem      GIoU       obj       cls     total   targets  img_size\n",
            "       7/9     2.87G     0.669      1.85      1.85      4.38       150       416: 100% 38/38 [00:12<00:00,  2.93it/s]\n",
            "               Class    Images   Targets         P         R   mAP@0.5        F1: 100% 2/2 [00:00<00:00,  2.39it/s]\n",
            "                 all        58       386      0.36     0.583      0.49     0.398\n",
            "\n",
            "     Epoch   gpu_mem      GIoU       obj       cls     total   targets  img_size\n",
            "       8/9     2.87G     0.675      1.94      1.85      4.47       211       416: 100% 38/38 [00:12<00:00,  2.96it/s]\n",
            "               Class    Images   Targets         P         R   mAP@0.5        F1: 100% 2/2 [00:00<00:00,  2.35it/s]\n",
            "                 all        58       386      0.36     0.622     0.506     0.415\n",
            "\n",
            "     Epoch   gpu_mem      GIoU       obj       cls     total   targets  img_size\n",
            "       9/9     2.87G     0.664      2.03       1.8       4.5       171       416: 100% 38/38 [00:13<00:00,  2.91it/s]\n",
            "               Class    Images   Targets         P         R   mAP@0.5        F1: 100% 2/2 [00:00<00:00,  2.20it/s]\n",
            "                 all        58       386     0.355     0.642     0.513     0.424\n",
            "10 epochs completed in 0.041 hours.\n",
            "\n"
          ]
        }
      ]
    },
    {
      "cell_type": "code",
      "metadata": {
        "outputId": "5aedc400-f4c1-4802-f1a5-d3dc786a2769",
        "colab": {
          "base_uri": "https://localhost:8080/",
          "height": 439
        },
        "id": "DpmUPlL3VUaa"
      },
      "source": [
        "from utils import utils; utils.plot_results()"
      ],
      "execution_count": null,
      "outputs": [
        {
          "output_type": "display_data",
          "data": {
            "text/plain": [
              "<Figure size 864x432 with 10 Axes>"
            ],
            "image/png": "[encoded data removed]"
          },
          "metadata": {
            "needs_background": "light"
          }
        }
      ]
    },
    {
      "cell_type": "markdown",
      "metadata": {
        "id": "iuRGoRDFq7md"
      },
      "source": [
        "## Display training performance\n",
        "\n",
        "We'll use a default provided script to display image results. **For example:**\n"
      ]
    },
    {
      "cell_type": "markdown",
      "metadata": {
        "id": "QvH2bf4Xq-0I"
      },
      "source": [
        "## Conduct inference and display results\n",
        "\n"
      ]
    },
    {
      "cell_type": "markdown",
      "metadata": {
        "id": "ubWkZfNK6RCk"
      },
      "source": [
        "### Conduct inference\n",
        "\n",
        "The below script has a few key arguments we're using:\n",
        "- **Weights**: we're specifying the weights to use for our model should be those that we most recently used in training\n",
        "- **Source**: we're specifying the source images we want to use for our predictions\n",
        "- **Names**: we're defining the names we want to use. Here, we're referencing `roboflow_data.names`, which we created from our Roboflow `_darknet.labels`italicized text above."
      ]
    },
    {
      "cell_type": "code",
      "metadata": {
        "colab": {
          "base_uri": "https://localhost:8080/"
        },
        "outputId": "aca9863c-230f-4290-d8a7-f72d6c2b9a09",
        "id": "lCP8todoVg_8"
      },
      "source": [
        "!python3 detect.py --weights weights/yolov3-tiny.weights --cfg cfg/yolov3-tiny.cfg --source=../test --names=../train/roboflow_data.names"
      ],
      "execution_count": null,
      "outputs": [
        {
          "output_type": "stream",
          "name": "stdout",
          "text": [
            "Namespace(agnostic_nms=False, cfg='cfg/yolov3-tiny.cfg', classes=None, conf_thres=0.3, device='', fourcc='mp4v', half=False, img_size=416, iou_thres=0.6, names='../train/roboflow_data.names', output='output', save_txt=False, source='../test', view_img=False, weights='weights/yolov3-tiny.weights')\n",
            "Using CUDA device0 _CudaDeviceProperties(name='Tesla T4', total_memory=15109MB)\n",
            "\n",
            "Model Summary: 37 layers, 8.85237e+06 parameters, 8.85237e+06 gradients\n",
            "/usr/local/lib/python3.7/dist-packages/torch/functional.py:568: UserWarning: torch.meshgrid: in an upcoming release, it will be required to pass the indexing argument. (Triggered internally at  ../aten/src/ATen/native/TensorShape.cpp:2228.)\n",
            "  return _VF.meshgrid(tensors, **kwargs)  # type: ignore[attr-defined]\n",
            "image 1/29 ../test/0b47311f426ff926578c9d738d683e76_jpg.rf.40183eae584a653181bbd795ba3c353f.jpg: 416x416 Done. (0.073s)\n",
            "image 2/29 ../test/1c0060ef868bdc326ce5e6389cb6732f_jpg.rf.f02cd668d26a53d9bf001497992b3657.jpg: 416x416 Done. (0.006s)\n",
            "image 3/29 ../test/2f6fb003bb89cd401322a535acb42f65_jpg.rf.66c0a46773a9cd583fb96c3df41a9e0c.jpg: 416x416 Done. (0.006s)\n",
            "image 4/29 ../test/410993714e325a1de3e394ffe860df3a_jpg.rf.657c49ca295ef54da23469189070a075.jpg: 416x416 1 bishops, Done. (0.006s)\n",
            "image 5/29 ../test/4e3117459d759798537eb52cf5bf534d_jpg.rf.ec961b62d4b0e131fae760ed1f80836b.jpg: 416x416 Done. (0.006s)\n",
            "image 6/29 ../test/5a35ba2ec3e0d0b2b12b1758a8ac29aa_jpg.rf.9dbdb057f6533c0c09c0eda0747fbc9e.jpg: 416x416 Done. (0.006s)\n",
            "image 7/29 ../test/654bb8835258b26c466b1c19893df451_jpg.rf.55fb7f23a4422a80793f01e152fabe4d.jpg: 416x416 Done. (0.006s)\n",
            "image 8/29 ../test/685b860d412b91f5d4f7f9e643b84452_jpg.rf.2d78193e4021ae5ffb49ecd1060bebd7.jpg: 416x416 Done. (0.006s)\n",
            "image 9/29 ../test/73a38a5c8f8f1b09f093f304660d5326_jpg.rf.65192fc4204952bfd1121ee212aade1e.jpg: 416x416 Done. (0.006s)\n",
            "image 10/29 ../test/749e9074a77f8d34d86e2218f26cdab4_jpg.rf.b39c00c032a7ecbb62b8792bbe05497e.jpg: 416x416 Done. (0.006s)\n",
            "image 11/29 ../test/7a34d8620235048917b28bcfd3b5572b_jpg.rf.450c577e3be66b5232c54ffc9ec9e6b7.jpg: 416x416 Done. (0.006s)\n",
            "image 12/29 ../test/8ff752f9ed443e6e49d495abfceb2032_jpg.rf.530a6c314a4848ead2b0ebc40e6ba651.jpg: 416x416 Done. (0.006s)\n",
            "image 13/29 ../test/IMG_0159_JPG.rf.f0d34122f8817d538e396b04f2b70d33.jpg: 416x416 Done. (0.006s)\n",
            "image 14/29 ../test/IMG_0169_JPG.rf.1de291413bb78ef8ff0eaa8ffac38b06.jpg: 416x416 Done. (0.006s)\n",
            "image 15/29 ../test/IMG_0170_JPG.rf.480e7164cb4727f6654402882f0ce942.jpg: 416x416 Done. (0.006s)\n",
            "image 16/29 ../test/a3863d0be6002c21b20ac88817b2c56f_jpg.rf.0413d5178136ace55f588df9556c060a.jpg: 416x416 Done. (0.006s)\n",
            "image 17/29 ../test/b4ff4132c8c85da97d8bf9a2a4ed3e3d_jpg.rf.ec790769b4818025b7652ca6aab9307e.jpg: 416x416 Done. (0.006s)\n",
            "image 18/29 ../test/b526b661a33ff481231d1342aff2a266_jpg.rf.287d21a885ec3abeb6da818a6a9cd05b.jpg: 416x416 Done. (0.006s)\n",
            "image 19/29 ../test/b9402881fa580d0eb8b9b98845417550_jpg.rf.7c401587706c0c03dab27877a8d22f55.jpg: 416x416 Done. (0.006s)\n",
            "image 20/29 ../test/c4943d83c06a12ad5e0399d19514a4ca_jpg.rf.99b2d7e1faa204e71fdc71676040c4d6.jpg: 416x416 Done. (0.006s)\n",
            "image 21/29 ../test/c5a012dfa72816098d23fc8baee67834_jpg.rf.6e0feae2ac0229ff5f20fc842852c81d.jpg: 416x416 Done. (0.006s)\n",
            "image 22/29 ../test/cf4769d0586df6b3fb0dc618d9f8abe6_jpg.rf.81d8a4fa4e06ba4399292de7f5b5e300.jpg: 416x416 Done. (0.006s)\n",
            "image 23/29 ../test/cfc306bf86176b92ffc1afbb98d7896f_jpg.rf.effd71a5dcd98ec0f24072af5f7c0a31.jpg: 416x416 Done. (0.006s)\n",
            "image 24/29 ../test/d7887071e972604ddf5940d8eb2702e7_jpg.rf.5f20fe9a6c746d488d6d0478828478cb.jpg: Traceback (most recent call last):\n",
            "  File \"detect.py\", line 179, in <module>\n",
            "    detect()\n",
            "  File \"detect.py\", line 113, in detect\n",
            "    s += '%g %ss, ' % (n, names[int(c)])  # add to string\n",
            "IndexError: list index out of range\n"
          ]
        }
      ]
    },
    {
      "cell_type": "code",
      "metadata": {
        "id": "FB4Lfxt-n0qP"
      },
      "source": [
        "!python3 detect.py --weights weights/last.pt --source=../test --names=../train/roboflow_data.names"
      ],
      "execution_count": null,
      "outputs": []
    },
    {
      "cell_type": "code",
      "metadata": {
        "id": "MhszzhAs41Ed"
      },
      "source": [
        ""
      ],
      "execution_count": null,
      "outputs": []
    },
    {
      "cell_type": "code",
      "metadata": {
        "id": "Sr9Sg0OH8GOl"
      },
      "source": [
        ""
      ],
      "execution_count": null,
      "outputs": []
    },
    {
      "cell_type": "markdown",
      "metadata": {
        "id": "jGgVRiJd8HJZ"
      },
      "source": [
        "### Displaying our results\n",
        "\n",
        "Ultralytics generates predictions which include the labels and bounding boxes \"printed\" directly on top of our images. They're saved in our `output` directory within the YOLOv3 repo we cloned above."
      ]
    },
    {
      "cell_type": "code",
      "metadata": {
        "id": "SdAEEulm4zxI"
      },
      "source": [
        "# import libraries for display\n",
        "%matplotlib inline\n",
        "import matplotlib.pyplot as plt\n",
        "import numpy as np\n",
        "from IPython.display import display, Image\n",
        "from glob import glob\n",
        "import random\n",
        "import PIL"
      ],
      "execution_count": null,
      "outputs": []
    },
    {
      "cell_type": "code",
      "metadata": {
        "id": "8TW1ctRD51UO"
      },
      "source": [
        "# plot just one random image prediction\n",
        "filename = random.choice(os.listdir('./output'))\n",
        "print(filename)\n",
        "Image('./output/' + filename)"
      ],
      "execution_count": null,
      "outputs": []
    },
    {
      "cell_type": "code",
      "metadata": {
        "id": "pzxLXker5dgx"
      },
      "source": [
        "# grab all images from our output directory\n",
        "images = [ PIL.Image.open(f) for f in glob('./output/*') ]"
      ],
      "execution_count": null,
      "outputs": []
    },
    {
      "cell_type": "code",
      "metadata": {
        "id": "Bn3kGA9M40j4"
      },
      "source": [
        "# convert images to numPy\n",
        "def img2array(im):\n",
        "    if im.mode != 'RGB':\n",
        "        im = im.convert(mode='RGB')\n",
        "    return np.fromstring(im.tobytes(), dtype='uint8').reshape((im.size[1], im.size[0], 3))"
      ],
      "execution_count": null,
      "outputs": []
    },
    {
      "cell_type": "code",
      "metadata": {
        "id": "O8mMr52J5kxn"
      },
      "source": [
        "# create array of numPy images\n",
        "np_images = [ img2array(im) for im in images ]"
      ],
      "execution_count": null,
      "outputs": []
    },
    {
      "cell_type": "code",
      "metadata": {
        "id": "pjcEs32q5EYz"
      },
      "source": [
        "# plot ALL results in test directory (NOTE: adjust figsize as you please)\n",
        "for img in np_images:\n",
        "    plt.figure(figsize=(8, 6))\n",
        "    plt.imshow(img)"
      ],
      "execution_count": null,
      "outputs": []
    },
    {
      "cell_type": "code",
      "metadata": {
        "id": "Z-21cwp18sUi"
      },
      "source": [
        ""
      ],
      "execution_count": null,
      "outputs": []
    },
    {
      "cell_type": "markdown",
      "metadata": {
        "id": "Kq4-LWZv8tft"
      },
      "source": [
        "## Save Our Weights\n",
        "\n",
        "We can save the weights of our model to use them for inference in the future, or pick up training where we left off. \n",
        "\n",
        "We can first save them locally. We'll connect our Google Drive, and save them there.\n"
      ]
    },
    {
      "cell_type": "code",
      "metadata": {
        "id": "IZhWKKgFFmQ8"
      },
      "source": [
        "# save locally\n",
        "from google.colab import files\n",
        "files.download('./weights/last.pt')"
      ],
      "execution_count": null,
      "outputs": []
    },
    {
      "cell_type": "code",
      "metadata": {
        "id": "VQWTAyBIFPZz"
      },
      "source": [
        ""
      ],
      "execution_count": null,
      "outputs": []
    },
    {
      "cell_type": "code",
      "metadata": {
        "id": "RanWc2VNEDFn"
      },
      "source": [
        "# connect Google Drive\n",
        "from google.colab import drive\n",
        "drive.mount('/content/gdrive')"
      ],
      "execution_count": null,
      "outputs": []
    },
    {
      "cell_type": "code",
      "metadata": {
        "id": "quJfM0w5Hu0y"
      },
      "source": [
        "%pwd"
      ],
      "execution_count": null,
      "outputs": []
    },
    {
      "cell_type": "code",
      "source": [
        ""
      ],
      "metadata": {
        "id": "dnbHelqqVpBZ"
      },
      "execution_count": null,
      "outputs": []
    },
    {
      "cell_type": "code",
      "metadata": {
        "id": "yTDGzdgOHbbQ"
      },
      "source": [
        "# create a copy of the weights file with a datetime \n",
        "# and move that file to your own Drive\n",
        "%cp ./weights/last.pt ./weights/last_copy.pt\n",
        "%mv ./weights/last_copy.pt /content/gdrive/My\\ Drive"
      ],
      "execution_count": null,
      "outputs": []
    },
    {
      "cell_type": "code",
      "metadata": {
        "id": "ciNW0TPV4z2A"
      },
      "source": [
        ""
      ],
      "execution_count": null,
      "outputs": []
    },
    {
      "cell_type": "markdown",
      "source": [
        "# Basic Flask Application"
      ],
      "metadata": {
        "id": "fH6M4L1fVlU_"
      }
    },
    {
      "cell_type": "code",
      "source": [
        "from unicodedata import name\n",
        "from flask import Flask\n",
        "app = Flask(__name__)\n",
        "\n",
        "@app.route(\"/\")\n",
        "\n",
        "def home():\n",
        "    return \"Hello Flask!\""
      ],
      "metadata": {
        "id": "fG0oAGzNkxYk"
      },
      "execution_count": null,
      "outputs": []
    },
    {
      "cell_type": "markdown",
      "source": [
        "# extracting text from jpg file"
      ],
      "metadata": {
        "id": "pPkzfR99k40W"
      }
    },
    {
      "cell_type": "code",
      "source": [
        "!pip install PyPDF2\n",
        "!pip install opencv-python-headless==4.1.2.30\n",
        "!pip install easyocr\n",
        "!apt-get install poppler-utils\n",
        "!pip install pdf2image\n",
        "!pip install pdfminer.six"
      ],
      "metadata": {
        "colab": {
          "base_uri": "https://localhost:8080/"
        },
        "id": "auB4ccNPs6BD",
        "outputId": "a60453f6-615d-4331-a6e9-a08988286c12"
      },
      "execution_count": null,
      "outputs": [
        {
          "output_type": "stream",
          "name": "stdout",
          "text": [
            "Looking in indexes: https://pypi.org/simple, https://us-python.pkg.dev/colab-wheels/public/simple/\n",
            "Collecting PyPDF2\n",
            "  Downloading PyPDF2-2.5.0-py3-none-any.whl (200 kB)\n",
            "\u001b[K     |████████████████████████████████| 200 kB 5.0 MB/s \n",
            "\u001b[?25hRequirement already satisfied: typing-extensions in /usr/local/lib/python3.7/dist-packages (from PyPDF2) (4.1.1)\n",
            "Installing collected packages: PyPDF2\n",
            "Successfully installed PyPDF2-2.5.0\n",
            "Looking in indexes: https://pypi.org/simple, https://us-python.pkg.dev/colab-wheels/public/simple/\n",
            "Collecting opencv-python-headless==4.1.2.30\n",
            "  Downloading opencv_python_headless-4.1.2.30-cp37-cp37m-manylinux1_x86_64.whl (21.8 MB)\n",
            "\u001b[K     |████████████████████████████████| 21.8 MB 1.3 MB/s \n",
            "\u001b[?25hRequirement already satisfied: numpy>=1.14.5 in /usr/local/lib/python3.7/dist-packages (from opencv-python-headless==4.1.2.30) (1.21.6)\n",
            "Installing collected packages: opencv-python-headless\n",
            "Successfully installed opencv-python-headless-4.1.2.30\n",
            "Looking in indexes: https://pypi.org/simple, https://us-python.pkg.dev/colab-wheels/public/simple/\n",
            "Collecting easyocr\n",
            "  Downloading easyocr-1.5.0-py3-none-any.whl (70.8 MB)\n",
            "\u001b[K     |████████████████████████████████| 70.8 MB 17 kB/s \n",
            "\u001b[?25hRequirement already satisfied: scipy in /usr/local/lib/python3.7/dist-packages (from easyocr) (1.4.1)\n",
            "Requirement already satisfied: scikit-image in /usr/local/lib/python3.7/dist-packages (from easyocr) (0.18.3)\n",
            "Requirement already satisfied: torchvision>=0.5 in /usr/local/lib/python3.7/dist-packages (from easyocr) (0.12.0+cu113)\n",
            "Requirement already satisfied: Pillow in /usr/local/lib/python3.7/dist-packages (from easyocr) (7.1.2)\n",
            "Requirement already satisfied: opencv-python-headless<=4.5.4.60 in /usr/local/lib/python3.7/dist-packages (from easyocr) (4.1.2.30)\n",
            "Collecting python-bidi\n",
            "  Downloading python_bidi-0.4.2-py2.py3-none-any.whl (30 kB)\n",
            "Requirement already satisfied: PyYAML in /usr/local/lib/python3.7/dist-packages (from easyocr) (3.13)\n",
            "Requirement already satisfied: torch in /usr/local/lib/python3.7/dist-packages (from easyocr) (1.11.0+cu113)\n",
            "Requirement already satisfied: numpy in /usr/local/lib/python3.7/dist-packages (from easyocr) (1.21.6)\n",
            "Requirement already satisfied: requests in /usr/local/lib/python3.7/dist-packages (from torchvision>=0.5->easyocr) (2.23.0)\n",
            "Requirement already satisfied: typing-extensions in /usr/local/lib/python3.7/dist-packages (from torchvision>=0.5->easyocr) (4.1.1)\n",
            "Requirement already satisfied: six in /usr/local/lib/python3.7/dist-packages (from python-bidi->easyocr) (1.15.0)\n",
            "Requirement already satisfied: idna<3,>=2.5 in /usr/local/lib/python3.7/dist-packages (from requests->torchvision>=0.5->easyocr) (2.10)\n",
            "Requirement already satisfied: chardet<4,>=3.0.2 in /usr/local/lib/python3.7/dist-packages (from requests->torchvision>=0.5->easyocr) (3.0.4)\n",
            "Requirement already satisfied: certifi>=2017.4.17 in /usr/local/lib/python3.7/dist-packages (from requests->torchvision>=0.5->easyocr) (2022.6.15)\n",
            "Requirement already satisfied: urllib3!=1.25.0,!=1.25.1,<1.26,>=1.21.1 in /usr/local/lib/python3.7/dist-packages (from requests->torchvision>=0.5->easyocr) (1.24.3)\n",
            "Requirement already satisfied: tifffile>=2019.7.26 in /usr/local/lib/python3.7/dist-packages (from scikit-image->easyocr) (2021.11.2)\n",
            "Requirement already satisfied: PyWavelets>=1.1.1 in /usr/local/lib/python3.7/dist-packages (from scikit-image->easyocr) (1.3.0)\n",
            "Requirement already satisfied: matplotlib!=3.0.0,>=2.0.0 in /usr/local/lib/python3.7/dist-packages (from scikit-image->easyocr) (3.2.2)\n",
            "Requirement already satisfied: networkx>=2.0 in /usr/local/lib/python3.7/dist-packages (from scikit-image->easyocr) (2.6.3)\n",
            "Requirement already satisfied: imageio>=2.3.0 in /usr/local/lib/python3.7/dist-packages (from scikit-image->easyocr) (2.4.1)\n",
            "Requirement already satisfied: kiwisolver>=1.0.1 in /usr/local/lib/python3.7/dist-packages (from matplotlib!=3.0.0,>=2.0.0->scikit-image->easyocr) (1.4.3)\n",
            "Requirement already satisfied: cycler>=0.10 in /usr/local/lib/python3.7/dist-packages (from matplotlib!=3.0.0,>=2.0.0->scikit-image->easyocr) (0.11.0)\n",
            "Requirement already satisfied: python-dateutil>=2.1 in /usr/local/lib/python3.7/dist-packages (from matplotlib!=3.0.0,>=2.0.0->scikit-image->easyocr) (2.8.2)\n",
            "Requirement already satisfied: pyparsing!=2.0.4,!=2.1.2,!=2.1.6,>=2.0.1 in /usr/local/lib/python3.7/dist-packages (from matplotlib!=3.0.0,>=2.0.0->scikit-image->easyocr) (3.0.9)\n",
            "Installing collected packages: python-bidi, easyocr\n",
            "Successfully installed easyocr-1.5.0 python-bidi-0.4.2\n",
            "Reading package lists... Done\n",
            "Building dependency tree       \n",
            "Reading state information... Done\n",
            "The following package was automatically installed and is no longer required:\n",
            "  libnvidia-common-460\n",
            "Use 'apt autoremove' to remove it.\n",
            "The following NEW packages will be installed:\n",
            "  poppler-utils\n",
            "0 upgraded, 1 newly installed, 0 to remove and 62 not upgraded.\n",
            "Need to get 154 kB of archives.\n",
            "After this operation, 613 kB of additional disk space will be used.\n",
            "Get:1 http://archive.ubuntu.com/ubuntu bionic-updates/main amd64 poppler-utils amd64 0.62.0-2ubuntu2.12 [154 kB]\n",
            "Fetched 154 kB in 1s (294 kB/s)\n",
            "Selecting previously unselected package poppler-utils.\n",
            "(Reading database ... 155639 files and directories currently installed.)\n",
            "Preparing to unpack .../poppler-utils_0.62.0-2ubuntu2.12_amd64.deb ...\n",
            "Unpacking poppler-utils (0.62.0-2ubuntu2.12) ...\n",
            "Setting up poppler-utils (0.62.0-2ubuntu2.12) ...\n",
            "Processing triggers for man-db (2.8.3-2ubuntu0.1) ...\n",
            "Looking in indexes: https://pypi.org/simple, https://us-python.pkg.dev/colab-wheels/public/simple/\n",
            "Collecting pdf2image\n",
            "  Downloading pdf2image-1.16.0-py3-none-any.whl (10 kB)\n",
            "Requirement already satisfied: pillow in /usr/local/lib/python3.7/dist-packages (from pdf2image) (7.1.2)\n",
            "Installing collected packages: pdf2image\n",
            "Successfully installed pdf2image-1.16.0\n",
            "Looking in indexes: https://pypi.org/simple, https://us-python.pkg.dev/colab-wheels/public/simple/\n",
            "Collecting pdfminer.six\n",
            "  Downloading pdfminer.six-20220524-py3-none-any.whl (5.6 MB)\n",
            "\u001b[K     |████████████████████████████████| 5.6 MB 5.0 MB/s \n",
            "\u001b[?25hCollecting cryptography>=36.0.0\n",
            "  Downloading cryptography-37.0.4-cp36-abi3-manylinux_2_24_x86_64.whl (4.1 MB)\n",
            "\u001b[K     |████████████████████████████████| 4.1 MB 40.5 MB/s \n",
            "\u001b[?25hRequirement already satisfied: charset-normalizer>=2.0.0 in /usr/local/lib/python3.7/dist-packages (from pdfminer.six) (2.1.0)\n",
            "Requirement already satisfied: cffi>=1.12 in /usr/local/lib/python3.7/dist-packages (from cryptography>=36.0.0->pdfminer.six) (1.15.0)\n",
            "Requirement already satisfied: pycparser in /usr/local/lib/python3.7/dist-packages (from cffi>=1.12->cryptography>=36.0.0->pdfminer.six) (2.21)\n",
            "Installing collected packages: cryptography, pdfminer.six\n",
            "Successfully installed cryptography-37.0.4 pdfminer.six-20220524\n"
          ]
        }
      ]
    },
    {
      "cell_type": "code",
      "source": [
        "!mkdir data\n",
        "!mkdir textExtracted"
      ],
      "metadata": {
        "id": "nn_KzRhQs8yL"
      },
      "execution_count": null,
      "outputs": []
    },
    {
      "cell_type": "markdown",
      "source": [
        "### Note: add data to the data folder"
      ],
      "metadata": {
        "id": "O-q0yu3Qy6rk"
      }
    },
    {
      "cell_type": "code",
      "source": [
        "%cd .."
      ],
      "metadata": {
        "colab": {
          "base_uri": "https://localhost:8080/"
        },
        "id": "eNda3CA0tjf_",
        "outputId": "5e50f923-1243-43ce-fd1d-50660bfe292b"
      },
      "execution_count": null,
      "outputs": [
        {
          "output_type": "stream",
          "name": "stdout",
          "text": [
            "/content\n"
          ]
        }
      ]
    },
    {
      "cell_type": "code",
      "source": [
        "import os\n",
        "import easyocr\n",
        "from pdf2image import convert_from_path\n",
        "import numpy as np\n",
        "reader = easyocr.Reader(['en']) \n",
        "fl=0\n",
        "path='/content/data/'\n",
        "path1='/content/textExtracted/'\n",
        "image_list=os.listdir(path)\n",
        "for filename in os.listdir(path):\n",
        "  if filename[-3:]=='pdf' or filename[-3:]=='PDF':\n",
        "    images = convert_from_path(path+'/'+filename)\n",
        "    #print(images)\n",
        "    line=''\n",
        "    for j in range(len(images)):\n",
        "      #print(images[j])\n",
        "      text = reader.readtext(np.array(images[j]),detail=0)\n",
        "      for tex in text:\n",
        "          line=line+' '+tex\n",
        "    # f=open(path1+str(fl)+\".txt\",\"w+\")\n",
        "    # print(path1+str(fl)+\".txt\")\n",
        "    # for i in line:\n",
        "    #     f.write(i)\n",
        "    # f.close()\n",
        "    # fl+=1\n",
        "  elif filename[-3:]=='jpg' or filename[-3:]=='JPG':    \n",
        "    line=''\n",
        "    text = reader.readtext('data/'+filename,detail=0)\n",
        "    for tex in text:\n",
        "        line=line+' '+tex\n",
        "  f=open(path1+str(fl)+\".txt\",\"w+\")\n",
        "  print(path1+str(fl)+\".txt\")\n",
        "  for i in line:\n",
        "      f.write(i)\n",
        "  f.close()\n",
        "  fl+=1"
      ],
      "metadata": {
        "colab": {
          "base_uri": "https://localhost:8080/"
        },
        "id": "W_tZQyLJtAOv",
        "outputId": "bc69ac7b-ee25-41e2-9f4d-20ca3ba20a3c"
      },
      "execution_count": null,
      "outputs": [
        {
          "metadata": {
            "tags": null
          },
          "name": "stderr",
          "output_type": "stream",
          "text": [
            "Downloading detection model, please wait. This may take several minutes depending upon your network connection.\n"
          ]
        },
        {
          "metadata": {
            "tags": null
          },
          "name": "stdout",
          "output_type": "stream",
          "text": [
            "Progress: |██████████████████████████████████████████████████| 100.0% Complete"
          ]
        },
        {
          "metadata": {
            "tags": null
          },
          "name": "stderr",
          "output_type": "stream",
          "text": [
            "Downloading recognition model, please wait. This may take several minutes depending upon your network connection.\n"
          ]
        },
        {
          "output_type": "stream",
          "name": "stdout",
          "text": [
            "Progress: |██████████████████████████████████████████████████| 100.0% Completefinancial_document_form 16_2019_11_26-12_44_23_568926_.jpg\n",
            "financial_document_form 16_2019_11_26-12_44_23_568926_.jpg\n",
            "/content/textExtracted/0.txt\n",
            "financial_document_form 16_2019_11_26-12_44_23_576237_.jpg\n",
            "financial_document_form 16_2019_11_26-12_44_23_576237_.jpg\n",
            "/content/textExtracted/1.txt\n",
            "financial_document_form 16_2019_11_26-12_44_23_565320_.PDF\n",
            "/content/textExtracted/2.txt\n",
            "financial_document_form 16_2019_11_26-12_44_23_586289_.jpg\n",
            "financial_document_form 16_2019_11_26-12_44_23_586289_.jpg\n",
            "/content/textExtracted/3.txt\n",
            "financial_document_form 16_2019_11_26-12_44_23_404516_.jpg\n",
            "financial_document_form 16_2019_11_26-12_44_23_404516_.jpg\n",
            "/content/textExtracted/4.txt\n",
            "financial_document_form 16_2019_11_26-12_44_23_656769_.PDF\n",
            "/content/textExtracted/5.txt\n",
            "financial_document_form 16_2019_11_26-12_44_23_659973_.pdf\n",
            "/content/textExtracted/6.txt\n",
            "financial_document_form 16_2019_11_26-12_44_23_570731_.jpg\n",
            "financial_document_form 16_2019_11_26-12_44_23_570731_.jpg\n",
            "/content/textExtracted/7.txt\n",
            "financial_document_form 16_2019_11_26-12_44_23_573408_.pdf\n",
            "/content/textExtracted/8.txt\n",
            "financial_document_form 16_2019_11_26-12_44_23_569090_.pdf\n",
            "/content/textExtracted/9.txt\n",
            "financial_document_form 16_2019_11_26-12_44_23_568743_.jpg\n",
            "financial_document_form 16_2019_11_26-12_44_23_568743_.jpg\n",
            "/content/textExtracted/10.txt\n",
            "financial_document_form 16_2019_11_26-12_44_23_406781_.jpg\n",
            "financial_document_form 16_2019_11_26-12_44_23_406781_.jpg\n",
            "/content/textExtracted/11.txt\n",
            "financial_document_form 16_2019_11_26-12_44_23_413679_.pdf\n",
            "/content/textExtracted/12.txt\n",
            "financial_document_form 16_2019_11_26-12_44_23_408725_.jpg\n",
            "financial_document_form 16_2019_11_26-12_44_23_408725_.jpg\n",
            "/content/textExtracted/13.txt\n",
            "financial_document_form 16_2019_11_26-12_44_23_407277_.jpg\n",
            "financial_document_form 16_2019_11_26-12_44_23_407277_.jpg\n",
            "/content/textExtracted/14.txt\n",
            "financial_document_form 16_2019_11_26-12_44_23_575882_.pdf\n",
            "/content/textExtracted/15.txt\n",
            "financial_document_form 16_2019_11_26-12_44_23_576851_.pdf\n",
            "/content/textExtracted/16.txt\n",
            "financial_document_form 16_2019_11_26-12_44_23_421285_.pdf\n",
            "/content/textExtracted/17.txt\n",
            "financial_document_form 16_2019_11_26-12_44_23_573833_.jpg\n",
            "financial_document_form 16_2019_11_26-12_44_23_573833_.jpg\n",
            "/content/textExtracted/18.txt\n",
            "financial_document_form 16_2019_11_26-12_44_23_404315_.jpg\n",
            "financial_document_form 16_2019_11_26-12_44_23_404315_.jpg\n",
            "/content/textExtracted/19.txt\n",
            "financial_document_form 16_2019_11_26-12_44_23_570309_.pdf\n",
            "/content/textExtracted/20.txt\n",
            "financial_document_form 16_2019_11_26-12_44_23_407029_.pdf\n",
            "/content/textExtracted/21.txt\n",
            "financial_document_form 16_2019_11_26-12_44_23_568244_.jpg\n",
            "financial_document_form 16_2019_11_26-12_44_23_568244_.jpg\n",
            "/content/textExtracted/22.txt\n",
            "financial_document_form 16_2019_11_26-12_44_23_657748_.PDF\n",
            "/content/textExtracted/23.txt\n",
            "financial_document_form 16_2019_11_26-12_44_23_479988_.pdf\n",
            "/content/textExtracted/24.txt\n",
            "financial_document_form 16_2019_11_26-12_44_23_406525_.jpg\n",
            "financial_document_form 16_2019_11_26-12_44_23_406525_.jpg\n",
            "/content/textExtracted/25.txt\n",
            "financial_document_form 16_2019_11_26-12_44_23_568541_.jpg\n",
            "financial_document_form 16_2019_11_26-12_44_23_568541_.jpg\n",
            "/content/textExtracted/26.txt\n",
            "financial_document_form 16_2019_11_26-12_44_23_597570_.pdf\n",
            "/content/textExtracted/27.txt\n"
          ]
        }
      ]
    },
    {
      "cell_type": "code",
      "source": [
        "#downloading extracted text files as zip folder\n",
        "!zip -r /content/textExtracted.zip /content/textExtracted"
      ],
      "metadata": {
        "colab": {
          "base_uri": "https://localhost:8080/"
        },
        "id": "p_oG-I9qCIcY",
        "outputId": "4cf8ece9-12c0-4f08-97ed-d42dcfd73033"
      },
      "execution_count": null,
      "outputs": [
        {
          "output_type": "stream",
          "name": "stdout",
          "text": [
            "updating: content/textExtracted/ (stored 0%)\n",
            "updating: content/textExtracted/23.txt (deflated 59%)\n",
            "updating: content/textExtracted/7.txt (deflated 51%)\n",
            "updating: content/textExtracted/3.txt (deflated 58%)\n",
            "updating: content/textExtracted/13.txt (deflated 57%)\n",
            "updating: content/textExtracted/26.txt (deflated 60%)\n",
            "updating: content/textExtracted/8.txt (deflated 58%)\n",
            "updating: content/textExtracted/1.txt (deflated 48%)\n",
            "updating: content/textExtracted/9.txt (deflated 59%)\n",
            "updating: content/textExtracted/4.txt (deflated 52%)\n",
            "updating: content/textExtracted/2.txt (deflated 59%)\n",
            "updating: content/textExtracted/14.txt (deflated 43%)\n",
            "updating: content/textExtracted/21.txt (deflated 48%)\n",
            "updating: content/textExtracted/5.txt (deflated 62%)\n",
            "updating: content/textExtracted/27.txt (deflated 67%)\n",
            "updating: content/textExtracted/10.txt (deflated 50%)\n",
            "updating: content/textExtracted/25.txt (deflated 57%)\n",
            "updating: content/textExtracted/18.txt (deflated 53%)\n",
            "updating: content/textExtracted/17.txt (deflated 61%)\n",
            "updating: content/textExtracted/11.txt (deflated 44%)\n",
            "updating: content/textExtracted/19.txt (deflated 51%)\n",
            "updating: content/textExtracted/22.txt (deflated 50%)\n",
            "updating: content/textExtracted/24.txt (deflated 68%)\n",
            "updating: content/textExtracted/20.txt (deflated 54%)\n",
            "updating: content/textExtracted/6.txt (deflated 67%)\n",
            "updating: content/textExtracted/16.txt (deflated 62%)\n",
            "updating: content/textExtracted/0.txt (deflated 40%)\n",
            "updating: content/textExtracted/15.txt (deflated 69%)\n",
            "updating: content/textExtracted/12.txt (deflated 59%)\n"
          ]
        }
      ]
    },
    {
      "cell_type": "code",
      "source": [
        "for i in os.listdir('/content/'):\n",
        "  if i[-3:]=='txt':\n",
        "    os.remove(i)"
      ],
      "metadata": {
        "id": "9T7oxvJz7kqT"
      },
      "execution_count": null,
      "outputs": []
    }
  ]
}