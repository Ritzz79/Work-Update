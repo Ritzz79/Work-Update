{
  "nbformat": 4,
  "nbformat_minor": 0,
  "metadata": {
    "colab": {
      "name": "Form16-extraction-Yolov3-PyTorch.ipynb",
      "provenance": [],
      "collapsed_sections": [],
      "include_colab_link": true
    },
    "kernelspec": {
      "name": "python3",
      "display_name": "Python 3"
    },
    "accelerator": "GPU"
  },
  "cells": [
    {
      "cell_type": "markdown",
      "metadata": {
        "id": "view-in-github",
        "colab_type": "text"
      },
      "source": [
        "<a href=\"https://colab.research.google.com/github/Ritzz79/Work-Update/blob/main/Form16_extraction_Yolov3_PyTorch.ipynb\" target=\"_parent\"><img src=\"https://colab.research.google.com/assets/colab-badge.svg\" alt=\"Open In Colab\"/></a>"
      ]
    },
    {
      "cell_type": "markdown",
      "source": [
        "#**Work to be Done :** \n",
        "* Create a Flask Application for getting input (.jpg,.jpeg,.pdf and .tiff) from the user and return the extracted entities listed below. \n",
        "* Push the code into your personal Git repository ( Do not push the datasets in the Repo )\n",
        " "
      ],
      "metadata": {
        "id": "-qpKJfsaW5jB"
      }
    },
    {
      "cell_type": "markdown",
      "source": [
        "# **Entities to be extracted :**\n",
        "* Certificate Number\n",
        "* Last Updated\n",
        "* PAN Number\n",
        "* Deducter PAN Number\n",
        "* Deducter TAN Number\n",
        "* Assessment Year\n",
        "* Period with Employer\n",
        "* Name & Address_Employee\n",
        "* Name & Address_Employer\n",
        "* Aggregate\n",
        "* Gross Salary\n",
        "* Total tax payable\n",
        "* Net Salary\n",
        "* Quarter\n",
        "\n",
        "\n"
      ],
      "metadata": {
        "id": "KjeatKvsW60G"
      }
    },
    {
      "cell_type": "markdown",
      "source": [
        "## **Target Date of Completion:** 14th July 2022\n"
      ],
      "metadata": {
        "id": "aXmE4AKcXAPB"
      }
    },
    {
      "cell_type": "markdown",
      "source": [
        "# Basic Flask Application"
      ],
      "metadata": {
        "id": "fH6M4L1fVlU_"
      }
    },
    {
      "cell_type": "code",
      "source": [
        "from unicodedata import name\n",
        "from flask import Flask\n",
        "app = Flask(__name__)\n",
        "\n",
        "@app.route(\"/\")\n",
        "\n",
        "def home():\n",
        "    return \"Hello Flask!\""
      ],
      "metadata": {
        "id": "fG0oAGzNkxYk"
      },
      "execution_count": null,
      "outputs": []
    },
    {
      "cell_type": "markdown",
      "source": [
        "# extracting text from jpg file"
      ],
      "metadata": {
        "id": "pPkzfR99k40W"
      }
    },
    {
      "cell_type": "code",
      "source": [
        "!pip install PyPDF2\n",
        "!pip install opencv-python-headless==4.1.2.30\n",
        "!pip install easyocr\n",
        "!apt-get install poppler-utils\n",
        "!pip install pdf2image\n",
        "!pip install pdfminer.six"
      ],
      "metadata": {
        "colab": {
          "base_uri": "https://localhost:8080/"
        },
        "id": "auB4ccNPs6BD",
        "outputId": "a60453f6-615d-4331-a6e9-a08988286c12"
      },
      "execution_count": null,
      "outputs": [
        {
          "output_type": "stream",
          "name": "stdout",
          "text": [
            "Looking in indexes: https://pypi.org/simple, https://us-python.pkg.dev/colab-wheels/public/simple/\n",
            "Collecting PyPDF2\n",
            "  Downloading PyPDF2-2.5.0-py3-none-any.whl (200 kB)\n",
            "\u001b[K     |████████████████████████████████| 200 kB 5.0 MB/s \n",
            "\u001b[?25hRequirement already satisfied: typing-extensions in /usr/local/lib/python3.7/dist-packages (from PyPDF2) (4.1.1)\n",
            "Installing collected packages: PyPDF2\n",
            "Successfully installed PyPDF2-2.5.0\n",
            "Looking in indexes: https://pypi.org/simple, https://us-python.pkg.dev/colab-wheels/public/simple/\n",
            "Collecting opencv-python-headless==4.1.2.30\n",
            "  Downloading opencv_python_headless-4.1.2.30-cp37-cp37m-manylinux1_x86_64.whl (21.8 MB)\n",
            "\u001b[K     |████████████████████████████████| 21.8 MB 1.3 MB/s \n",
            "\u001b[?25hRequirement already satisfied: numpy>=1.14.5 in /usr/local/lib/python3.7/dist-packages (from opencv-python-headless==4.1.2.30) (1.21.6)\n",
            "Installing collected packages: opencv-python-headless\n",
            "Successfully installed opencv-python-headless-4.1.2.30\n",
            "Looking in indexes: https://pypi.org/simple, https://us-python.pkg.dev/colab-wheels/public/simple/\n",
            "Collecting easyocr\n",
            "  Downloading easyocr-1.5.0-py3-none-any.whl (70.8 MB)\n",
            "\u001b[K     |████████████████████████████████| 70.8 MB 17 kB/s \n",
            "\u001b[?25hRequirement already satisfied: scipy in /usr/local/lib/python3.7/dist-packages (from easyocr) (1.4.1)\n",
            "Requirement already satisfied: scikit-image in /usr/local/lib/python3.7/dist-packages (from easyocr) (0.18.3)\n",
            "Requirement already satisfied: torchvision>=0.5 in /usr/local/lib/python3.7/dist-packages (from easyocr) (0.12.0+cu113)\n",
            "Requirement already satisfied: Pillow in /usr/local/lib/python3.7/dist-packages (from easyocr) (7.1.2)\n",
            "Requirement already satisfied: opencv-python-headless<=4.5.4.60 in /usr/local/lib/python3.7/dist-packages (from easyocr) (4.1.2.30)\n",
            "Collecting python-bidi\n",
            "  Downloading python_bidi-0.4.2-py2.py3-none-any.whl (30 kB)\n",
            "Requirement already satisfied: PyYAML in /usr/local/lib/python3.7/dist-packages (from easyocr) (3.13)\n",
            "Requirement already satisfied: torch in /usr/local/lib/python3.7/dist-packages (from easyocr) (1.11.0+cu113)\n",
            "Requirement already satisfied: numpy in /usr/local/lib/python3.7/dist-packages (from easyocr) (1.21.6)\n",
            "Requirement already satisfied: requests in /usr/local/lib/python3.7/dist-packages (from torchvision>=0.5->easyocr) (2.23.0)\n",
            "Requirement already satisfied: typing-extensions in /usr/local/lib/python3.7/dist-packages (from torchvision>=0.5->easyocr) (4.1.1)\n",
            "Requirement already satisfied: six in /usr/local/lib/python3.7/dist-packages (from python-bidi->easyocr) (1.15.0)\n",
            "Requirement already satisfied: idna<3,>=2.5 in /usr/local/lib/python3.7/dist-packages (from requests->torchvision>=0.5->easyocr) (2.10)\n",
            "Requirement already satisfied: chardet<4,>=3.0.2 in /usr/local/lib/python3.7/dist-packages (from requests->torchvision>=0.5->easyocr) (3.0.4)\n",
            "Requirement already satisfied: certifi>=2017.4.17 in /usr/local/lib/python3.7/dist-packages (from requests->torchvision>=0.5->easyocr) (2022.6.15)\n",
            "Requirement already satisfied: urllib3!=1.25.0,!=1.25.1,<1.26,>=1.21.1 in /usr/local/lib/python3.7/dist-packages (from requests->torchvision>=0.5->easyocr) (1.24.3)\n",
            "Requirement already satisfied: tifffile>=2019.7.26 in /usr/local/lib/python3.7/dist-packages (from scikit-image->easyocr) (2021.11.2)\n",
            "Requirement already satisfied: PyWavelets>=1.1.1 in /usr/local/lib/python3.7/dist-packages (from scikit-image->easyocr) (1.3.0)\n",
            "Requirement already satisfied: matplotlib!=3.0.0,>=2.0.0 in /usr/local/lib/python3.7/dist-packages (from scikit-image->easyocr) (3.2.2)\n",
            "Requirement already satisfied: networkx>=2.0 in /usr/local/lib/python3.7/dist-packages (from scikit-image->easyocr) (2.6.3)\n",
            "Requirement already satisfied: imageio>=2.3.0 in /usr/local/lib/python3.7/dist-packages (from scikit-image->easyocr) (2.4.1)\n",
            "Requirement already satisfied: kiwisolver>=1.0.1 in /usr/local/lib/python3.7/dist-packages (from matplotlib!=3.0.0,>=2.0.0->scikit-image->easyocr) (1.4.3)\n",
            "Requirement already satisfied: cycler>=0.10 in /usr/local/lib/python3.7/dist-packages (from matplotlib!=3.0.0,>=2.0.0->scikit-image->easyocr) (0.11.0)\n",
            "Requirement already satisfied: python-dateutil>=2.1 in /usr/local/lib/python3.7/dist-packages (from matplotlib!=3.0.0,>=2.0.0->scikit-image->easyocr) (2.8.2)\n",
            "Requirement already satisfied: pyparsing!=2.0.4,!=2.1.2,!=2.1.6,>=2.0.1 in /usr/local/lib/python3.7/dist-packages (from matplotlib!=3.0.0,>=2.0.0->scikit-image->easyocr) (3.0.9)\n",
            "Installing collected packages: python-bidi, easyocr\n",
            "Successfully installed easyocr-1.5.0 python-bidi-0.4.2\n",
            "Reading package lists... Done\n",
            "Building dependency tree       \n",
            "Reading state information... Done\n",
            "The following package was automatically installed and is no longer required:\n",
            "  libnvidia-common-460\n",
            "Use 'apt autoremove' to remove it.\n",
            "The following NEW packages will be installed:\n",
            "  poppler-utils\n",
            "0 upgraded, 1 newly installed, 0 to remove and 62 not upgraded.\n",
            "Need to get 154 kB of archives.\n",
            "After this operation, 613 kB of additional disk space will be used.\n",
            "Get:1 http://archive.ubuntu.com/ubuntu bionic-updates/main amd64 poppler-utils amd64 0.62.0-2ubuntu2.12 [154 kB]\n",
            "Fetched 154 kB in 1s (294 kB/s)\n",
            "Selecting previously unselected package poppler-utils.\n",
            "(Reading database ... 155639 files and directories currently installed.)\n",
            "Preparing to unpack .../poppler-utils_0.62.0-2ubuntu2.12_amd64.deb ...\n",
            "Unpacking poppler-utils (0.62.0-2ubuntu2.12) ...\n",
            "Setting up poppler-utils (0.62.0-2ubuntu2.12) ...\n",
            "Processing triggers for man-db (2.8.3-2ubuntu0.1) ...\n",
            "Looking in indexes: https://pypi.org/simple, https://us-python.pkg.dev/colab-wheels/public/simple/\n",
            "Collecting pdf2image\n",
            "  Downloading pdf2image-1.16.0-py3-none-any.whl (10 kB)\n",
            "Requirement already satisfied: pillow in /usr/local/lib/python3.7/dist-packages (from pdf2image) (7.1.2)\n",
            "Installing collected packages: pdf2image\n",
            "Successfully installed pdf2image-1.16.0\n",
            "Looking in indexes: https://pypi.org/simple, https://us-python.pkg.dev/colab-wheels/public/simple/\n",
            "Collecting pdfminer.six\n",
            "  Downloading pdfminer.six-20220524-py3-none-any.whl (5.6 MB)\n",
            "\u001b[K     |████████████████████████████████| 5.6 MB 5.0 MB/s \n",
            "\u001b[?25hCollecting cryptography>=36.0.0\n",
            "  Downloading cryptography-37.0.4-cp36-abi3-manylinux_2_24_x86_64.whl (4.1 MB)\n",
            "\u001b[K     |████████████████████████████████| 4.1 MB 40.5 MB/s \n",
            "\u001b[?25hRequirement already satisfied: charset-normalizer>=2.0.0 in /usr/local/lib/python3.7/dist-packages (from pdfminer.six) (2.1.0)\n",
            "Requirement already satisfied: cffi>=1.12 in /usr/local/lib/python3.7/dist-packages (from cryptography>=36.0.0->pdfminer.six) (1.15.0)\n",
            "Requirement already satisfied: pycparser in /usr/local/lib/python3.7/dist-packages (from cffi>=1.12->cryptography>=36.0.0->pdfminer.six) (2.21)\n",
            "Installing collected packages: cryptography, pdfminer.six\n",
            "Successfully installed cryptography-37.0.4 pdfminer.six-20220524\n"
          ]
        }
      ]
    },
    {
      "cell_type": "code",
      "source": [
        "!mkdir data\n",
        "!mkdir textExtracted"
      ],
      "metadata": {
        "id": "nn_KzRhQs8yL"
      },
      "execution_count": null,
      "outputs": []
    },
    {
      "cell_type": "markdown",
      "source": [
        "### Note: add data to the data folder"
      ],
      "metadata": {
        "id": "O-q0yu3Qy6rk"
      }
    },
    {
      "cell_type": "code",
      "source": [
        "import os\n",
        "import easyocr\n",
        "from pdf2image import convert_from_path\n",
        "import numpy as np\n",
        "reader = easyocr.Reader(['en']) \n",
        "fl=0\n",
        "path='/content/data/'\n",
        "path1='/content/textExtracted/'\n",
        "image_list=os.listdir(path)\n",
        "for filename in os.listdir(path):\n",
        "  if filename[-3:]=='pdf' or filename[-3:]=='PDF':\n",
        "    images = convert_from_path(path+'/'+filename)\n",
        "    #print(images)\n",
        "    line=''\n",
        "    for j in range(len(images)):\n",
        "      #print(images[j])\n",
        "      text = reader.readtext(np.array(images[j]),detail=0)\n",
        "      for tex in text:\n",
        "          line=line+' '+tex\n",
        "    f=open(path1+str(fl)+\".txt\",\"w+\")\n",
        "    print(path1+str(fl)+\".txt\")\n",
        "    for i in line:\n",
        "        f.write(i)\n",
        "    f.close()\n",
        "    fl+=1\n",
        "  elif filename[-3:]=='jpg' or filename[-3:]=='JPG':    \n",
        "    line=''\n",
        "    text = reader.readtext('data/'+filename,detail=0)\n",
        "    for tex in text:\n",
        "        line=line+' '+tex\n",
        "  f=open(path1+str(fl)+\".txt\",\"w+\")\n",
        "  print(path1+str(fl)+\".txt\")\n",
        "  for i in line:\n",
        "      f.write(i)\n",
        "  f.close()\n",
        "  fl+=1\n",
        "  "
      ],
      "metadata": {
        "colab": {
          "base_uri": "https://localhost:8080/"
        },
        "id": "W_tZQyLJtAOv",
        "outputId": "bc69ac7b-ee25-41e2-9f4d-20ca3ba20a3c"
      },
      "execution_count": null,
      "outputs": [
        {
          "metadata": {
            "tags": null
          },
          "name": "stderr",
          "output_type": "stream",
          "text": [
            "Downloading detection model, please wait. This may take several minutes depending upon your network connection.\n"
          ]
        },
        {
          "metadata": {
            "tags": null
          },
          "name": "stdout",
          "output_type": "stream",
          "text": [
            "Progress: |██████████████████████████████████████████████████| 100.0% Complete"
          ]
        },
        {
          "metadata": {
            "tags": null
          },
          "name": "stderr",
          "output_type": "stream",
          "text": [
            "Downloading recognition model, please wait. This may take several minutes depending upon your network connection.\n"
          ]
        },
        {
          "output_type": "stream",
          "name": "stdout",
          "text": [
            "Progress: |██████████████████████████████████████████████████| 100.0% Completefinancial_document_form 16_2019_11_26-12_44_23_568926_.jpg\n",
            "financial_document_form 16_2019_11_26-12_44_23_568926_.jpg\n",
            "/content/textExtracted/0.txt\n",
            "financial_document_form 16_2019_11_26-12_44_23_576237_.jpg\n",
            "financial_document_form 16_2019_11_26-12_44_23_576237_.jpg\n",
            "/content/textExtracted/1.txt\n",
            "financial_document_form 16_2019_11_26-12_44_23_565320_.PDF\n",
            "/content/textExtracted/2.txt\n",
            "financial_document_form 16_2019_11_26-12_44_23_586289_.jpg\n",
            "financial_document_form 16_2019_11_26-12_44_23_586289_.jpg\n",
            "/content/textExtracted/3.txt\n",
            "financial_document_form 16_2019_11_26-12_44_23_404516_.jpg\n",
            "financial_document_form 16_2019_11_26-12_44_23_404516_.jpg\n",
            "/content/textExtracted/4.txt\n",
            "financial_document_form 16_2019_11_26-12_44_23_656769_.PDF\n",
            "/content/textExtracted/5.txt\n",
            "financial_document_form 16_2019_11_26-12_44_23_659973_.pdf\n",
            "/content/textExtracted/6.txt\n",
            "financial_document_form 16_2019_11_26-12_44_23_570731_.jpg\n",
            "financial_document_form 16_2019_11_26-12_44_23_570731_.jpg\n",
            "/content/textExtracted/7.txt\n",
            "financial_document_form 16_2019_11_26-12_44_23_573408_.pdf\n",
            "/content/textExtracted/8.txt\n",
            "financial_document_form 16_2019_11_26-12_44_23_569090_.pdf\n",
            "/content/textExtracted/9.txt\n",
            "financial_document_form 16_2019_11_26-12_44_23_568743_.jpg\n",
            "financial_document_form 16_2019_11_26-12_44_23_568743_.jpg\n",
            "/content/textExtracted/10.txt\n",
            "financial_document_form 16_2019_11_26-12_44_23_406781_.jpg\n",
            "financial_document_form 16_2019_11_26-12_44_23_406781_.jpg\n",
            "/content/textExtracted/11.txt\n",
            "financial_document_form 16_2019_11_26-12_44_23_413679_.pdf\n",
            "/content/textExtracted/12.txt\n",
            "financial_document_form 16_2019_11_26-12_44_23_408725_.jpg\n",
            "financial_document_form 16_2019_11_26-12_44_23_408725_.jpg\n",
            "/content/textExtracted/13.txt\n",
            "financial_document_form 16_2019_11_26-12_44_23_407277_.jpg\n",
            "financial_document_form 16_2019_11_26-12_44_23_407277_.jpg\n",
            "/content/textExtracted/14.txt\n",
            "financial_document_form 16_2019_11_26-12_44_23_575882_.pdf\n",
            "/content/textExtracted/15.txt\n",
            "financial_document_form 16_2019_11_26-12_44_23_576851_.pdf\n",
            "/content/textExtracted/16.txt\n",
            "financial_document_form 16_2019_11_26-12_44_23_421285_.pdf\n",
            "/content/textExtracted/17.txt\n",
            "financial_document_form 16_2019_11_26-12_44_23_573833_.jpg\n",
            "financial_document_form 16_2019_11_26-12_44_23_573833_.jpg\n",
            "/content/textExtracted/18.txt\n",
            "financial_document_form 16_2019_11_26-12_44_23_404315_.jpg\n",
            "financial_document_form 16_2019_11_26-12_44_23_404315_.jpg\n",
            "/content/textExtracted/19.txt\n",
            "financial_document_form 16_2019_11_26-12_44_23_570309_.pdf\n",
            "/content/textExtracted/20.txt\n",
            "financial_document_form 16_2019_11_26-12_44_23_407029_.pdf\n",
            "/content/textExtracted/21.txt\n",
            "financial_document_form 16_2019_11_26-12_44_23_568244_.jpg\n",
            "financial_document_form 16_2019_11_26-12_44_23_568244_.jpg\n",
            "/content/textExtracted/22.txt\n",
            "financial_document_form 16_2019_11_26-12_44_23_657748_.PDF\n",
            "/content/textExtracted/23.txt\n",
            "financial_document_form 16_2019_11_26-12_44_23_479988_.pdf\n",
            "/content/textExtracted/24.txt\n",
            "financial_document_form 16_2019_11_26-12_44_23_406525_.jpg\n",
            "financial_document_form 16_2019_11_26-12_44_23_406525_.jpg\n",
            "/content/textExtracted/25.txt\n",
            "financial_document_form 16_2019_11_26-12_44_23_568541_.jpg\n",
            "financial_document_form 16_2019_11_26-12_44_23_568541_.jpg\n",
            "/content/textExtracted/26.txt\n",
            "financial_document_form 16_2019_11_26-12_44_23_597570_.pdf\n",
            "/content/textExtracted/27.txt\n"
          ]
        }
      ]
    },
    {
      "cell_type": "code",
      "source": [
        "#downloading extracted text files as zip folder\n",
        "!zip -r /content/textExtracted.zip /content/textExtracted"
      ],
      "metadata": {
        "colab": {
          "base_uri": "https://localhost:8080/"
        },
        "id": "p_oG-I9qCIcY",
        "outputId": "4cf8ece9-12c0-4f08-97ed-d42dcfd73033"
      },
      "execution_count": null,
      "outputs": [
        {
          "output_type": "stream",
          "name": "stdout",
          "text": [
            "updating: content/textExtracted/ (stored 0%)\n",
            "updating: content/textExtracted/23.txt (deflated 59%)\n",
            "updating: content/textExtracted/7.txt (deflated 51%)\n",
            "updating: content/textExtracted/3.txt (deflated 58%)\n",
            "updating: content/textExtracted/13.txt (deflated 57%)\n",
            "updating: content/textExtracted/26.txt (deflated 60%)\n",
            "updating: content/textExtracted/8.txt (deflated 58%)\n",
            "updating: content/textExtracted/1.txt (deflated 48%)\n",
            "updating: content/textExtracted/9.txt (deflated 59%)\n",
            "updating: content/textExtracted/4.txt (deflated 52%)\n",
            "updating: content/textExtracted/2.txt (deflated 59%)\n",
            "updating: content/textExtracted/14.txt (deflated 43%)\n",
            "updating: content/textExtracted/21.txt (deflated 48%)\n",
            "updating: content/textExtracted/5.txt (deflated 62%)\n",
            "updating: content/textExtracted/27.txt (deflated 67%)\n",
            "updating: content/textExtracted/10.txt (deflated 50%)\n",
            "updating: content/textExtracted/25.txt (deflated 57%)\n",
            "updating: content/textExtracted/18.txt (deflated 53%)\n",
            "updating: content/textExtracted/17.txt (deflated 61%)\n",
            "updating: content/textExtracted/11.txt (deflated 44%)\n",
            "updating: content/textExtracted/19.txt (deflated 51%)\n",
            "updating: content/textExtracted/22.txt (deflated 50%)\n",
            "updating: content/textExtracted/24.txt (deflated 68%)\n",
            "updating: content/textExtracted/20.txt (deflated 54%)\n",
            "updating: content/textExtracted/6.txt (deflated 67%)\n",
            "updating: content/textExtracted/16.txt (deflated 62%)\n",
            "updating: content/textExtracted/0.txt (deflated 40%)\n",
            "updating: content/textExtracted/15.txt (deflated 69%)\n",
            "updating: content/textExtracted/12.txt (deflated 59%)\n"
          ]
        }
      ]
    },
    {
      "cell_type": "code",
      "source": [
        "# for i in os.listdir('/content/'):\n",
        "#   if i[-3:]=='txt':\n",
        "#     os.remove(i)"
      ],
      "metadata": {
        "id": "9T7oxvJz7kqT"
      },
      "execution_count": null,
      "outputs": []
    },
    {
      "cell_type": "markdown",
      "source": [
        "\n",
        "\n",
        "### Annotate data and upload in the data folder\n",
        "\n"
      ],
      "metadata": {
        "id": "51MU01hS-Egd"
      }
    },
    {
      "cell_type": "code",
      "source": [
        "!mkdir train\n",
        "!mkdir test\n",
        "!mkdir dev"
      ],
      "metadata": {
        "id": "ahYaozmyUE3r"
      },
      "execution_count": 1,
      "outputs": []
    },
    {
      "cell_type": "code",
      "source": [
        "# import json\n",
        "# import os\n",
        "# path='/content/data/'\n",
        "# training_data = []\n",
        "# for filename in os.listdir(path):\n",
        "#   with open(filename) as f:\n",
        "#     temp = json.load(f)\n",
        "#     training_data.append(temp)\n",
        "\n",
        "# for i in os.listdir(path):\n",
        "#     if i[-4:]=='json':\n",
        "#         f = open(path+'/'+i)\n",
        "#         training_data.append(json.load(f))\n",
        "# print(len(training_data))"
      ],
      "metadata": {
        "colab": {
          "base_uri": "https://localhost:8080/"
        },
        "id": "X1ekNa3-VKkP",
        "outputId": "97bc7e91-8362-474b-ee81-5ebc630da24b"
      },
      "execution_count": null,
      "outputs": [
        {
          "output_type": "stream",
          "name": "stdout",
          "text": [
            "28\n"
          ]
        }
      ]
    },
    {
      "cell_type": "code",
      "source": [
        "# print(training_data)"
      ],
      "metadata": {
        "colab": {
          "base_uri": "https://localhost:8080/"
        },
        "id": "GzN7VFprXzrq",
        "outputId": "f6c0f3cc-be0e-411b-fd43-3da1197e472f"
      },
      "execution_count": null,
      "outputs": [
        {
          "output_type": "stream",
          "name": "stdout",
          "text": [
            "[{'classes': ['PAN NUMBER', 'DEDUCTER TAN NUMBER', 'ASSESSMENT YEAR', 'PERIOD WITH EMPLOYER', 'QUARTER', 'GROSS SALARY', 'TOTAL TAX PAYABLE', 'NET SALARY', 'CERTIFICATE NUMBER', 'LAST UPDATED', 'DEDUCTER PAN NUMBER', 'AGGREGATE', 'NAME OF EMPLOYEE', 'ADDRESS OF EMPLOYEE', 'NAME OF EMPLOYER', 'ADDRESS OF EMPLOYER'], 'annotations': [[' TDS TRACES Centralized Processing Cell TDS Reconciliation Analysis and Correction Enabling System Governmen: of India Income Tax Department FORM NO. 16 [See rule 31(1)a)] PART A Certificate under Section 203 of the Income-tax Act; 1961 for tax deducted at source on salary Certificate No. AHFJDDL Last updated on 31-May-2018 Name and address of the Employer Name and address of the Employee HDFC BANK LIMITED 1, HDFC BANK HOUSE, SENAPATI BAPAT MARG_ INDRAJIT GUPTA LOWER PAREL, MUMBAI 400013 FLAT NO 403, MAHENDRA LOK APARTMENT, KANKARBAGH, Maharashtra PATNA, PATNA 800020 Bihar +(91)22-30752816 NILESHDUSARA(HDFCBANK COM Employee Reference No. PAN of the Employee PAN of the Deductor TAN of the Deductor provided by the Employer (If available) AAACH2702H MUMHO3 189E AEMPG7970B CIT (TDS) Assessment Year Period with the Employer From To The Commissioner of Income Tax (TDS) Room No. 90A, 9th Floor; KG_ Mittal Ayurvedic Hospital 2018-19 01-Apr-2017 31-Mar-2018 Building, Charni Road Mumbai 400002 Summary of amount paid/credited and tax deducted at source thereon in respect of the employee Receipt Numbers of original Amount of tax deposited remitted quarterly statements of TDS Amount of tax deducted Quarter(s) Amount paid/credited (Rs.) under sub-section () of (Rs.) Section 200 Q1 QSMEIHWD 413925.00 67000.00 67000.00 Q2 QSPPYCBA 819455.00 189800.00 189800.00 Q3 QSVAKNDE 456645.00 76700.00 76700.00 Q4 QTARUSDC 403927.00 64900.00 64900.00 Total (Rs.) 2093952.00 398400.00 398400.00 I. DETAILS OF TAX DEDUCTED AND DEPOSITED IN THE CENTRAL GOVERNMENT ACCOUNT THROUGH BOOK ADJUSTMENT The deductor to provide payment wise details of tax deducted and deposited with respect to the deductee) Book Identification Number (BIN) Tax Deposited in respect of the SI No. deductee Date of transfer voucher Status of matching Receipt Numbers of Form DDO serial number in Form no_ (Rs.) (dd/mmlyyyy) with Form no. 24G No. 24G 24G Total (Rs.) II: DETAILS OF TAX DEDUCTED AND DEPOSITED IN THE CENTRAL GOVERNMENT ACCOUNT THROUGH CHALLAN (The deductor to provide payment wise details of tax deducted and deposited with respect to the deductee) Challan Identification Number (CIN) Tax Deposited in respect of the SI No. deductee (Rs:) BSR Code of the Bank Date on which Tax deposited Challan Serial Number Status of matching with Branch (dd/mmlyyyy) OLTAS* 22300.00 0510075 06-05-2017 17194 F 2 22300.00 0510075 07-06-2017 21414 F 3 22400.00 0510075 07-07-2017 31585 F 4 137400.00 0510075 07-08-2017 17298 F 1 of 6 Page 1 of 2 This file is signed Digital Signature. Page using', {'entities': [[290, 297, 'CERTIFICATE NUMBER'], [314, 325, 'LAST UPDATED'], [392, 409, 'NAME OF EMPLOYER'], [411, 450, 'ADDRESS OF EMPLOYER'], [451, 465, 'NAME OF EMPLOYEE'], [466, 492, 'ADDRESS OF EMPLOYER'], [493, 540, 'ADDRESS OF EMPLOYEE'], [542, 553, 'ADDRESS OF EMPLOYER'], [554, 579, 'ADDRESS OF EMPLOYEE'], [746, 756, 'DEDUCTER PAN NUMBER'], [757, 768, 'DEDUCTER TAN NUMBER'], [769, 779, 'PAN NUMBER'], [931, 938, 'ASSESSMENT YEAR'], [939, 962, 'PERIOD WITH EMPLOYER'], [1480, 1489, 'QUARTER'], [2458, 2467, 'TOTAL TAX PAYABLE']]}]]}]\n"
          ]
        }
      ]
    },
    {
      "cell_type": "code",
      "source": [
        "import spacy\n",
        "from spacy.tokens import DocBin\n",
        "import json\n",
        "import os\n",
        "nlp = spacy.blank(\"en\")\n",
        "\n",
        "path='/content/train'\n",
        "nlp = spacy.blank(\"en\") # load a new spacy model\n",
        "db = DocBin()\n",
        "for i in os.listdir(path):\n",
        "    if i[-4:]=='json':\n",
        "        f = open(path+'/'+i)\n",
        "        training_data = json.load(f)\n",
        "        for text, annot in training_data['annotations']: \n",
        "            doc = nlp.make_doc(text) \n",
        "            ents = []\n",
        "            for start, end, label in annot[\"entities\"]:\n",
        "                span = doc.char_span(start, end, label=label, alignment_mode=\"contract\")\n",
        "                if span is None:\n",
        "                    print(\"Skipping entity\")\n",
        "                else:\n",
        "                    ents.append(span)\n",
        "            doc.ents = ents \n",
        "            print(doc.ents)\n",
        "            db.add(doc)\n",
        "db.to_disk(\"train.spacy\")"
      ],
      "metadata": {
        "colab": {
          "base_uri": "https://localhost:8080/"
        },
        "id": "pHrBmi9FafFK",
        "outputId": "9c28d44f-fd02-4c93-bad9-5dc7988b3323"
      },
      "execution_count": 10,
      "outputs": [
        {
          "output_type": "stream",
          "name": "stdout",
          "text": [
            "(AHFJDDL, 31-May-2018, HDFC BANK LIMITED, , HDFC BANK HOUSE, SENAPATI BAPAT MARG_, INDRAJIT GUPTA, LOWER PAREL, MUMBAI 400013, FLAT NO 403, MAHENDRA LOK APARTMENT, KANKARBAGH, Maharashtra, PATNA, PATNA 800020 Bihar, AAACH2702H, MUMHO3 189E, AEMPG7970B, 2018-19, 01-Apr-2017 31-Mar-2018, 398400.00, 137400.00)\n",
            "(TMXRKFB, 25-Apr-2019, ANANDANILAYAM CHAITANYAKIRAN HOUSING PRIVATE LIMITED, 8-3-191/95 II ND FLOOR, LAKSHMI PLAZA_ MAIN ROAD, SOMA SEKHAR, VENGAL RAO NAGAR, HYDERABAD 500038, 3-137, BUDDAVARAM ROAD, GANNAVARAM, KRISHNA, Andhra Pradesh, 521101 Andhra Pradesh, AALCA5989L, HYDA14052D, AKDPG8805G, 2019-20, 01-Apr-2018 31-Mar-2019, 1944.00, 1944.00, 5,40,000.00, 5,00,000.00, 3,37,380.00)\n",
            "(FOSGVZL, PNECO6129E, AKIPBS987B, 2018-19, 124480.00)\n",
            "Skipping entity\n",
            "(EPVOGJB, 02-Jun-20/9, [-PROCESS SERVICES (INDIA) PRIVATE LIMITED, 705,706 AND 707 VISHWA, SADAN JANAKPURI; DISTRICT CENTRE, ASHVINI SINGH CHANDEL, DELHI 10058, HOUSE NO-4, KRISHNA NAGAR WARD NO-4, SUPELA , BHILAI, Delhi, 490023 Chattisgarh, AABCI3S38C, DELI06363A, 2019-20, 01-Apr-2O18 3[-Mar-2019, 622367.00)\n",
            "(VHYMRYM, CHEP14324C, ANRPT4OOSE, 2018-19, SESHARAMARAMCHARAN, 31525.00)\n",
            "(RXZSCVL, 28-May-2018, HONEYWELL TECHNOLOGY SOLUTIONS LAB PVT LTD, NO.151/1, BANNERGHATTA ROAD, SURESH DEVENDRAPPA NAGAVI, DORAISANIPALYA, BANGALORE 560076, 305, DAFFODIL ESTEEM PARK, 3/6 ROSE GARDEN ROAD, J P, Karnataka, NAGAR VTH PHASE, BANGALORE 560078 Karnataka, AAACH4ISIJ, BLRHO18SOC, ACWPN4S16A, 2018-19, 01-Apr-2017 31-Mar-2018, 254224.00, 254224.00)\n",
            "(VKMPMKC, 16-Jul-2019, INVESTORS CLINIC INFRATECH PRIVATE LIMITED, N-5, OPP_ AXIS BANK, SECTOR-18, NEERAJ SHARMA, NOIDA 201301, B 4 BASMENT, SAXENA HOUSE, SHIVALIK NEAR, MALVIYA, Uttar Pradesh, NAGAR, DELHI 110017 Delhi, AACCI2147R, MRTI00933C, ANZPS4822J, 2019-20, 01-Apr-2018 31-Mar-2019, 586576.00, 2919628.00, 175000.00, 2504628.00, 586445.00)\n",
            "(AAWLPRL, 01-Jun-2018, CONTAGIOUS ONLINE MEDIA NETWORK PRIVATE LIMITED, FLAT NO 503, SAMEET APRT. VIPUL CHS, ANANT SINGH, VARSOVA; ANDHERI WEST 400070, 58 RISHI APARTMENTS, SECTOR 9 ROHINI, NEAR ROHINI EAST, Maharashtra, METRO ST, NEW DELHI 110085 Delhi, AAGCC1331H, MUMC2I697E, DFDPSI980E, 2018-19, 01-Apr-2017 31-Mar-2018, 144232.00, 13087.00)\n",
            "(AMFCAEL, CHEPO6466F, CXKPS2I94C, 2018-19, SHANMUGAM KARTHKEYAN, 12275.00)\n",
            "(SQSOAFA, 25-May-20I9, M.SEB(O&M) CIRCLE LATUR, 1, VIDYUT BHA VAN, OLD POWER HOUSE, AMOL MANOHAR ALANGE, SALE GALLI; LATUR 413512, ALANGE NIWAS, BARSHI ROAD BMI HANUMANMA. PRAKASH, Maharshtr, NAGAR,LATUR 413512 Mahanshlr, AAACM7SO7P, NSKMO3676B, AJXPA4ZZ4E, 2019-20, 01-Apr-2OIS 31-Mar-2019, 26192.00, 966545, 42500, Rs.5SS9O, Rs.24646)\n",
            "(AHRAGUL, 31-May-2018, HDFC BANK LIMITED, 1, HDFC BANK HOUSE, SENAPATI BAPAT MARG, DINESH VADATULA NAIR, LOWER PAREL , MUMBAI 400013, 31 TBR TOWERS I CROSS NEW MISSION ROAD ADJACENT, Maharashtra, SBM JAIN, COLLEGE, BANGALORE 560002 Karnataka, AAACH2702H, MUMH03189E, AHMPN3794R, 2018-19, 01-Apr-2017 31-Mar-2018, 61752.00, 2100.00)\n",
            "(SFYMXJL, DELBI3I3OF, CDJPS9OIZE, 2018-19, MATHEW THOMAS, 600.00)\n",
            "(SJVZDTL, 16-May-2018, TATA CONSULTANCY SERVICES LIMITED, 8th Flr; Nirmal Bldg,, Nariman point, SNEHA RAMESH PARATE, Nariman point; Mumbai 400021, 10 RAMKRISHNA NAGAR, TIRUPATI HSG SOCIETY, UMRER, Maharashtra, ROAD, DIGHORI, NAGPUR 440034 Maharashtra, AAACR4849R, MUMT11446B, BOUPP9786F, 2018-19, 01-Apr-2017 31-Mar-2018, 19857.00, 19857.00)\n",
            "(FFYHPTA, 10-Jun-2019, MCKINSEY KNOWLEDGE CENTRE INDIA PRIVATE LIMITED, S 405, LOWER GENERAL FLOOR, GREATER KAILASH II, AJAY SINGH, 110048, 3RD FLOOR, BLOCK III, VATIKA BUSINESS PARK, SOHNA, Delhi, ROAD, SECTOR 49,GURGAON 122018 Haryana, AACCM2356G, DELM05634G, CHNPS6O89M, 2019-20, 01-Apr-2018 31-Mar-2019, 210753.00, 1537737.00, 178280.00, 1300490.00, 210753.00)\n",
            "(AQRDYNA, 14-May-2019, TATA CONSULTANCY SERVICES LIMITED, 8th Flr; Nirmal Bldg,, Nariman point, LAKSHMANAN MAGESH, Nariman point; Mumbai 400021, NO 56/58, THUMBAVANAM STREET, KANCHIPURAM Maharashtra KANCHIPURAM 631501 Tamil Nadu, AAACR4849R, MUMT11446B, BFNPM2639N, 2019-20, 01-Apr-2018 31-Mar-2019)\n",
            "(UGPQDBA, 22-, MINDTREE LIMITED, GLOBAL VILLAGE, GLOBAL VILLAGE, UMAKANTA SAROJA ROOPASHREE, MYSORE ROAD RVCE POST 560059, DJO MN UMAKANTH. RETIRED B D 0 SIDDAPPA HO. NEAR, Karnataka, BASA VAMANTAPPA. RANGAIAHNA BAGELU. CHITRADURGA, 57750] Kamalaka, AABCMSS39K, BLRMO23O7D, AVKPR4994D, 2019-20, 01-Apr-20I8 3-Mar-20/9, 909123.00)\n",
            "(1440979.00, 1200.00)\n",
            "(Government of Uttar Pradesh, Mr DHEERAJ KUMAR, U.P Civil Secretariat, Lucknow, LKNIO51S9A, ANNPK5O4SP, 2019-2020, 1/4/2018 To 31/3/2019, 245560, 1624666.00, 40000, 200000, 1384670)\n",
            "(VLYZDNC, 19-Jul-2019, S P SINGLA CONSTRUCTIONS P) LTD, 1006-1007, 10TH FLOOR, PEARLS BEST HEIGHT-1,, MUKESH KUMAR, N.S.P. PITAMPURA, NEW DELHI 110034, 501, KANAK BRAJ COMPLEX, BORING ROAD, PATNA 800001, Delhi, Bihar, AAGCS5773B, DELS1SS3OE, ASAPK1403F, 2019-20, 01-Apr-2018 31-Mar-2019, 27248.00, 780000.00, 171500.00, 568500.00, 27248.00)\n",
            "(NIKHIL SINGHANIA,)\n",
            "(NIKHIL SINGHANIA,)\n"
          ]
        }
      ]
    },
    {
      "cell_type": "code",
      "source": [
        "path='/content/dev'\n",
        "nlp = spacy.blank(\"en\") # load a new spacy model\n",
        "db = DocBin()\n",
        "for i in os.listdir(path):\n",
        "    if i[-4:]=='json':\n",
        "        f = open(path+'/'+i)\n",
        "        training_data = json.load(f)\n",
        "        for text, annot in training_data['annotations']: \n",
        "            doc = nlp.make_doc(text) \n",
        "            ents = []\n",
        "            for start, end, label in annot[\"entities\"]:\n",
        "                span = doc.char_span(start, end, label=label, alignment_mode=\"contract\")\n",
        "                if span is None:\n",
        "                    print(\"Skipping entity\")\n",
        "                else:\n",
        "                    ents.append(span)\n",
        "            doc.ents = ents \n",
        "            print(doc.ents)\n",
        "            db.add(doc)\n",
        "db.to_disk(\"dev.spacy\")"
      ],
      "metadata": {
        "colab": {
          "base_uri": "https://localhost:8080/"
        },
        "id": "lWxuy-1H5SGg",
        "outputId": "5d6c2c61-f408-4081-979c-0ddce7ca37cd"
      },
      "execution_count": 11,
      "outputs": [
        {
          "output_type": "stream",
          "name": "stdout",
          "text": [
            "(BWAZCGA, 23-May-2019, PERSISTENT SYSTEMS LIMITED, BHAGEERATH, 402 E SENAPATI BAPAT ROAD, PUNE_ 411016 Maharashtra, ANKUR ANIL SHRESTHA, 171, GANDHINAGAR, NAGPUR, NAGPUR 440010 Maharashtra, AABCP12O9Q, PNEPOO9O9G, CVOPS1192J, 2019-20, 01-Apr-2018 31-Mar-2019, 0.00, 309,630, 44,089, 194,310)\n",
            "(SXOIYVA, 18-Jun-2019, MAVENIR SYSTEMS PRIVATE LIMITED, BEECH 2ND FLOOR, MANYATA EMBASSY BUSINESS, OUTER, ANIMESH, RING ROAD, FLAT NO 8-705 BLOCK-B, FLR ROHAN VASANTHA APT, NEAR, BANGALORE, BANGALORE 560045, SPICE GARDEN BUSSTOP, MARATHAHALLI, BANGALORE, Karnataka, 560037 Karnataka, AAECM9663N, BLRM11324F, ADRPA0925A, 2019-20, 01-Apr-2018 31-Mar-2019, 858303.00, 858303.00)\n",
            "(00370464/AOXPD0414Q, MANISHA NILESH DESHMUKH, 639962.00, 1600.00, TATA CONSULTANCY SERVICES LTD., 8th Flr, Nirmal Bldg; Nariman Point Mumbai 400021 Maharashtra, MUMT11446B, AOXPD0414Q, 27049.00)\n",
            "(PKLCAUL, 12-Jul-2018, TALENTPACE PRIVATE LIMITED, NO 4 IST FLOOR, SRI LURUKRUPA COMPLEX, IST MAIN OUTER RING ROAD, SIVANANDA KOTI REDDY VANUKURI, MARATHAHALLI; BANGALORE 560037, NO 39/40 ABOVE RELIANCE F, IST FLOOR, HMT MAIN ROAD, Karnataka, MATHIKERE, BANGALORE, AAECT2646Q, BLRTO9154F, BHIPS4177A, 2018-19, 01-Apr-2017 31-Mar-2018, 232235.00)\n"
          ]
        }
      ]
    },
    {
      "cell_type": "code",
      "source": [
        "!python -m spacy init config config.cfg --lang en --pipeline ner --optimize efficiency"
      ],
      "metadata": {
        "colab": {
          "base_uri": "https://localhost:8080/"
        },
        "id": "VHM_kvRC142k",
        "outputId": "62396d0d-9814-46df-c7f4-bbbbd054d39b"
      },
      "execution_count": 12,
      "outputs": [
        {
          "output_type": "stream",
          "name": "stdout",
          "text": [
            "\u001b[38;5;3m⚠ To generate a more effective transformer-based config (GPU-only),\n",
            "install the spacy-transformers package and re-run this command. The config\n",
            "generated now does not use transformers.\u001b[0m\n",
            "\u001b[38;5;4mℹ Generated config template specific for your use case\u001b[0m\n",
            "- Language: en\n",
            "- Pipeline: ner\n",
            "- Optimize for: efficiency\n",
            "- Hardware: CPU\n",
            "- Transformer: None\n",
            "\u001b[38;5;2m✔ Auto-filled config with all values\u001b[0m\n",
            "\u001b[38;5;2m✔ Saved config\u001b[0m\n",
            "config.cfg\n",
            "You can now add your data and train your pipeline:\n",
            "python -m spacy train config.cfg --paths.train ./train.spacy --paths.dev ./dev.spacy\n"
          ]
        }
      ]
    },
    {
      "cell_type": "code",
      "source": [
        "!python -m spacy train config.cfg --output ./output --paths.train ./train.spacy --paths.dev ./dev.spacy"
      ],
      "metadata": {
        "colab": {
          "base_uri": "https://localhost:8080/"
        },
        "id": "5aQs_Lf02w_-",
        "outputId": "6897efff-067e-4c67-d926-5d73732ed9c2"
      },
      "execution_count": 13,
      "outputs": [
        {
          "output_type": "stream",
          "name": "stdout",
          "text": [
            "\u001b[38;5;2m✔ Created output directory: output\u001b[0m\n",
            "\u001b[38;5;4mℹ Saving to output directory: output\u001b[0m\n",
            "\u001b[38;5;4mℹ Using CPU\u001b[0m\n",
            "\u001b[38;5;4mℹ To switch to GPU 0, use the option: --gpu-id 0\u001b[0m\n",
            "\u001b[1m\n",
            "=========================== Initializing pipeline ===========================\u001b[0m\n",
            "[2022-07-13 15:37:25,367] [INFO] Set up nlp object from config\n",
            "[2022-07-13 15:37:25,377] [INFO] Pipeline: ['tok2vec', 'ner']\n",
            "[2022-07-13 15:37:25,382] [INFO] Created vocabulary\n",
            "[2022-07-13 15:37:25,382] [INFO] Finished initializing nlp object\n",
            "[2022-07-13 15:37:27,622] [INFO] Initialized pipeline components: ['tok2vec', 'ner']\n",
            "\u001b[38;5;2m✔ Initialized pipeline\u001b[0m\n",
            "\u001b[1m\n",
            "============================= Training pipeline =============================\u001b[0m\n",
            "\u001b[38;5;4mℹ Pipeline: ['tok2vec', 'ner']\u001b[0m\n",
            "\u001b[38;5;4mℹ Initial learn rate: 0.001\u001b[0m\n",
            "E    #       LOSS TOK2VEC  LOSS NER  ENTS_F  ENTS_P  ENTS_R  SCORE \n",
            "---  ------  ------------  --------  ------  ------  ------  ------\n",
            "  0       0          0.00    269.76    0.00    0.00    0.00    0.00\n",
            "  9     200       5017.66  14076.32   39.02   64.00   28.07    0.39\n",
            " 19     400       4936.62   2076.74   46.51   68.97   35.09    0.47\n",
            " 28     600       1940.47    851.67   51.55   62.50   43.86    0.52\n",
            " 38     800        407.16    695.89   50.00   65.71   40.35    0.50\n",
            " 47    1000        273.75    563.72   48.48   57.14   42.11    0.48\n",
            " 57    1200        370.62    544.40   54.00   62.79   47.37    0.54\n",
            " 66    1400        311.09    525.67   50.00   58.14   43.86    0.50\n",
            " 76    1600        323.58    492.42   59.18   70.73   50.88    0.59\n",
            " 85    1800        282.41    442.39   47.83   62.86   38.60    0.48\n",
            " 95    2000        567.29    475.36   54.74   68.42   45.61    0.55\n",
            "104    2200        322.73    396.46   57.69   63.83   52.63    0.58\n",
            "114    2400        701.17    439.89   55.91   72.22   45.61    0.56\n",
            "123    2600        367.16    380.19   61.22   73.17   52.63    0.61\n",
            "133    2800        489.27    399.09   58.95   73.68   49.12    0.59\n",
            "142    3000        431.78    402.01   57.69   63.83   52.63    0.58\n",
            "152    3200        923.89    416.31   50.55   67.65   40.35    0.51\n",
            "161    3400        545.81    393.29   46.81   59.46   38.60    0.47\n",
            "171    3600        239.45    360.91   52.17   68.57   42.11    0.52\n",
            "180    3800        433.17    356.50   54.35   71.43   43.86    0.54\n",
            "190    4000        368.13    347.67   56.00   65.12   49.12    0.56\n",
            "200    4200        391.14    348.59   47.83   62.86   38.60    0.48\n",
            "\u001b[38;5;2m✔ Saved pipeline to output directory\u001b[0m\n",
            "output/model-last\n"
          ]
        }
      ]
    },
    {
      "cell_type": "code",
      "source": [
        "path='/content/test'\n",
        "nlp = spacy.blank(\"en\") # load a new spacy model\n",
        "db = DocBin()\n",
        "for i in os.listdir(path):\n",
        "    if i[-4:]=='json':\n",
        "        f = open(path+'/'+i)\n",
        "        training_data = json.load(f)\n",
        "        for text, annot in training_data['annotations']: \n",
        "            doc = nlp.make_doc(text) \n",
        "            ents = []\n",
        "            for start, end, label in annot[\"entities\"]:\n",
        "                span = doc.char_span(start, end, label=label, alignment_mode=\"contract\")\n",
        "                if span is None:\n",
        "                    print(\"Skipping entity\")\n",
        "                else:\n",
        "                    ents.append(span)\n",
        "            doc.ents = ents \n",
        "            print(doc.ents)\n",
        "            db.add(doc)\n",
        "db.to_disk(\"test.spacy\")"
      ],
      "metadata": {
        "colab": {
          "base_uri": "https://localhost:8080/"
        },
        "id": "B5ywh-Qf8O_9",
        "outputId": "d9bab786-950d-40b6-e5e7-3d6e5c6d9cbd"
      },
      "execution_count": 14,
      "outputs": [
        {
          "output_type": "stream",
          "name": "stdout",
          "text": [
            "(BFCPD7539F, Year:2018-19, FMAGFBL, 30-May-2018, TALLY SOLUTIONS PRIVATE LIMITED, No. 331-336, 3rd Floor; Raheja Arcade, AVISHEK DHAR, Kormangala, Bangalore 560095, DOOR-9, MATHCHOWMOHANI, SHIBNAGAR, COLLAGE ROAD, Karnataka, PO-COLLAGE, TILLA SHIBNAGAR, SADAR 799004 Tripura, AAACP7879D, BLRPOO777A, BFCPD7539F, 138975.00, 138975.00, 13,00,460.00)\n",
            "(FAAGJMA, 02-Jun-2019, THE HI-TECH ROBOTIC SYSTEMZ LIMITED, A-18, Infocity-I, Sector-34, ARVIND KUMAR SINGH, GURGAON 122001, RZ 73, THIRD FLOOR, STREET NO 6, MOHAN BLOCK, Haryana, SAGARPUR DELHI 110046, AABCHSIOSP, RTKHO02624G, CYIPKZIOOD, 2019-20, 01-Apr-2018 31-Mar-2019, 693.00, 380560.00, 78916.00, 199344.00, 0.00)\n",
            "(AVANHPA, 02-Jun-2019, RENOVO ASSETS PRIVATE LIMITED, HIG FLAT NO 369 STH, FLLOR CAT -III BLOCK-B SEC-I8-B, DWARKA PH-[,NEW DELHI _ 110078, AMRITPAL SINGH SIAN, Delhi, HNO 2515/1, MUKAND PUR ROADBANGANAWANSAHAR, 100000 Punjab, AAHCRS342N, DELR3[440D, BVRPS9579P, 2019-20, 01-Apr-2018 31-Mar-2019, 17272.00, 17272.00)\n",
            "(ACSLZXL, 22-May-2018, COGNIZANT TECHNOLOGY SOLUTIONS INDIA PRIVATE LIMITED, 5/535, OKKIYAM, OLD MAHABALIPURAM ROAD, RENGARAJAN NARASHIMAN, THORAIPAKKAM, CHENNAI 600097, NO 20 NEW NO 50, BRIGADE MLR CENTRE, VANI VALAS ROAD, Tamilnadu, BASAVANGUDI, BANGALORE 560004 Karnataka, AAACD3312M, CHECO25O9D, ADUPN2243F, 2018-19, 01-Apr-2017 31-Mar-2018, 2136661.00, 65081.00)\n"
          ]
        }
      ]
    },
    {
      "cell_type": "code",
      "source": [
        "!python -m spacy evaluate ./output/model-last ./test.spacy"
      ],
      "metadata": {
        "colab": {
          "base_uri": "https://localhost:8080/"
        },
        "id": "D2DunYeU7WOH",
        "outputId": "2451df4b-fb2f-44d6-f88a-be4a1c684c80"
      },
      "execution_count": 15,
      "outputs": [
        {
          "output_type": "stream",
          "name": "stdout",
          "text": [
            "\u001b[38;5;4mℹ Using CPU\u001b[0m\n",
            "\u001b[38;5;4mℹ To switch to GPU 0, use the option: --gpu-id 0\u001b[0m\n",
            "\u001b[1m\n",
            "================================== Results ==================================\u001b[0m\n",
            "\n",
            "TOK     100.00\n",
            "NER P   74.19 \n",
            "NER R   34.33 \n",
            "NER F   46.94 \n",
            "SPEED   22951 \n",
            "\n",
            "\u001b[1m\n",
            "=============================== NER (per type) ===============================\u001b[0m\n",
            "\n",
            "                            P        R       F\n",
            "CERTIFICATE NUMBER      60.00   100.00   75.00\n",
            "LAST UPDATED            80.00   100.00   88.89\n",
            "DEDUCTER PAN NUMBER    100.00    50.00   66.67\n",
            "DEDUCTER TAN NUMBER    100.00    50.00   66.67\n",
            "PAN NUMBER             100.00    20.00   33.33\n",
            "ASSESSMENT YEAR         60.00    75.00   66.67\n",
            "PERIOD WITH EMPLOYER    75.00   100.00   85.71\n",
            "QUARTER                100.00    75.00   85.71\n",
            "TOTAL TAX PAYABLE        0.00     0.00    0.00\n",
            "GROSS SALARY           100.00    50.00   66.67\n",
            "ADDRESS OF EMPLOYER      0.00     0.00    0.00\n",
            "ADDRESS OF EMPLOYEE      0.00     0.00    0.00\n",
            "NAME OF EMPLOYEE         0.00     0.00    0.00\n",
            "NAME OF EMPLOYER       100.00    25.00   40.00\n",
            "AGGREGATE                0.00     0.00    0.00\n",
            "NET SALARY               0.00     0.00    0.00\n",
            "Unlabelled               0.00     0.00    0.00\n",
            "\n"
          ]
        }
      ]
    },
    {
      "cell_type": "code",
      "source": [
        "import json\n",
        "f = open(\"/content/test/20.json\")\n",
        "test_data = json.load(f)\n",
        "print(test_data[\"annotations\"])"
      ],
      "metadata": {
        "colab": {
          "base_uri": "https://localhost:8080/"
        },
        "id": "FpH02Ko-L7EW",
        "outputId": "fb85cd44-9346-452c-d4de-02bf2f80b8ca"
      },
      "execution_count": 56,
      "outputs": [
        {
          "output_type": "stream",
          "name": "stdout",
          "text": [
            "[[' Assessment Year: 2019-20 Number: AVANHPA TAN o Employer; DELRJIAIOD PANof Employee: HVRPS9579P\\' Verification DIRECIQR (designation) do hereby certify that sum of Rs. LE00 SLNGH; son daughter o SWARNLEELSINGILSOLN working in the capacity o Mundred deducted of Rs. LZ2Z2.0 (Rs. Sexentccn_Lhousand_Lxo Lhousand_Lua Hundred_andScxent_Luo_Onkx (in words)l hns been IRs. ScLcntccn the information given above is true, complete und correct Lue Qnkil has bcen deposited t0 the credit of the Central Government: further certily that Sakcnu is based on the books of account documents, TDS statements, TDS deposited other available records Place ~NEW DELHI (Signature of person responsible for deduction of Tax) Dale 12-Jul-2019 Full Name: RAJNEET SINGH Designation: DIRECTOR Notes: Part B (Annexure) of the certificate in Form No 16 shall be issued by the cmployer ending on 3 Ist March of the financial year shall contain the dctails under employer during the year, Pari \\'A\" of the certificate in Fomm No 16 issued for the quarter - Ifan assessee Is employed one which such of tax deducted and deposited for all the quarters of the financial year A of the certificate in Form No 16 pertaining (0 the penod for 3 If an assessce IS employed under more than one employer during theyear cach ofthe employerosha msy 6eass. of che employers or the last cmployer at the option of the assessce the Part B (Annexure) of the certificate in Form No !6 may be issued by cach assessce was employed with each of employers NSDL or UTITSL To update PAN details in Income Tax Department database, apply for \\'PAN change request\\' through Lcgenduscd_in Fqrml6 Status of matching with OLTAS Definition Lcgcnd Description particulars of tax payment Final credit will be reflected only payment Deductors have not deposited taxes or have fumished incorrect Unmatched dctails un bank match_with details of deposit in TDS TCS statement deductors status will be changed to Final (F) on Provisional tax credit is effected only for TDS / TCS Statements fled by Govemment Provisional venfication of payment details submitted by Accounts Officer (PAO) details ofTDS TCS deposited in bank by deductor have matched with the payment details In case of non-govemment deductors, payment deductors, details of TDS / TCS booked in Govemnment mentioned in the TDS TCS statement filed by the deductors of govcrment Final account have been venfied by_Pay & Accounts Oflicer (PAO) matched with details mentioned in the TDS / TCS statement but the Payment details of TDS / TCS deposited in bank by deductor have claimed amount in the statement Or claimed in the statement Final (F) credit will be reflected only when deductor reduces Overbooked amount IS OvET makes new payment fOr_Excess amount claimed in the statement Doaument cerbied Dy PUSHPINDER SINGh ~anpnor Enonoicnovol comy Pigsalpt si9n89 SINGH Date: 2019 112 12.32.47 IST Page 2 of 2 Carliktatc RIJNEEL nnd aum and and and when \"P\" and Pay case TDS TRACES Centralied Fhucessing Ccll TDS Reconciliation Analysis and Correction Enabling System Gavemmant af Indla Incoma Lar Drpartment FORM NO. 16 [See rule 31(Xa)] PART A Certificate under Section 203 of the Income-tax Act; 1961 for t9x deducted 4t source on salary Certilicate No. AVANHPA Last updated on 02-Jun-2019 Name and address of the Employer Name and address of the Employee RENOVO ASSETS PRIVATE LIMITED HIG FLAT NO 369 STH, FLLOR CAT -III BLOCK-B SEC-I8-B, DWARKA PH-[,NEW DELHI _ 110078 AMRITPAL SINGH SIAN Delhi HNO 2515/1, MUKAND PUR ROADBANGANAWANSAHAR  100000 Punjab deepak kumar@renovoassets com Employee Relerence No PAN of thc Deductor TAN of the Deductor PAN of the Employee provided by the Employer (If available) AAHCRS342N DELR3[440D BVRPS9579P CIT (TDS) Assessment Year Period with the Employer The Commissioner of Income Tax (TDS) From To Aayakar Bhawan, District Centre, 6th Floor Room no 610, Hall no 2019-20 01-Apr-2018 31-Mar-2019 Luxmi Delhi 140092 Summary of amount paidcredited and tax deducted at source thereon in respect of the employee Receipt Numbers of original quarterly statements of TDS Amount of tax dcducted Amount of tax deposited remitted Quarter(s) Amount paidlcredited (Rs) under sub-section (3) of (Rs) Section 200 Q1 QTDTTQIC 423645 00 9030 00 9030 00 04 QTNSMSJA 69183 00 8242 00 8242 00 Total (Rs.) 492828.00 17272.00 17272.00 L DETAILS OF TAX DEDUCTED AND DEPOSITED IN THE CENTRAL GOVERNMENT ACCOUNT THROUGH BOOK ADJUSTMENT The deductor t0 provide payment wise details of tax deducted and deposiled wIth respect to the deductee) Book Identification Number (BIN) Tax Deposited in respect of the SL No. deductee Date of transler vouchcr Status of matching Receipt Numbers of Form DDO serial number in Form no. (Rs) No. 24G 24G (ddlmmlyyyy) with Form no. 24G Total (Rs:) I DETAILS OF TAX DEDUCTED AND DEPOSITED IN THE CENTRAL GOVERNMENT ACCOUNT THROUGH CHALLAN (The deductor to provide payment wise details of tax deducted and deposited with respect t0 the deductee) Challan Identilication Number (CIN) Tax Deposited in respect of the SL No. deductec (Rs:) BSR Code of the Bank Date 0n which Tax deposited Challan Serial Number Status of matching with Branch (ddmmlyyyy) OLTAS\" 9030 00 6390340 07-07-2018 33996 3121,00 6390340 06-02.2019 02643 3121 00 6390340 06-03-2019 11301 2000 00 6390340 08-04-2019 05596 Total (Rs ) 17272.00 Page of 2 Nagar,', {'entities': [[3242, 3249, 'CERTIFICATE NUMBER'], [3266, 3277, 'LAST UPDATED'], [3344, 3373, 'NAME OF EMPLOYER'], [3374, 3458, 'ADDRESS OF EMPLOYER'], [3459, 3478, 'NAME OF EMPLOYEE'], [3479, 3484, 'ADDRESS OF EMPLOYER'], [3485, 3527, 'ADDRESS OF EMPLOYEE'], [3529, 3542, 'ADDRESS OF EMPLOYER'], [3695, 3705, 'DEDUCTER PAN NUMBER'], [3706, 3716, 'DEDUCTER TAN NUMBER'], [3717, 3727, 'PAN NUMBER'], [3888, 3895, 'ASSESSMENT YEAR'], [3896, 3919, 'PERIOD WITH EMPLOYER'], [4329, 4337, 'QUARTER'], [5331, 5339, 'TOTAL TAX PAYABLE']]}]]\n"
          ]
        }
      ]
    },
    {
      "cell_type": "code",
      "source": [
        "import spacy\n",
        "nlp = spacy.load(\"/content/output/model-last\")\n",
        "print(test_data[\"annotations\"][0][0])\n",
        "doc = nlp(test_data[\"annotations\"][0][0])\n",
        "for ent in doc.ents:\n",
        "  print( ent.label_ ,\": \", ent)\n",
        "  "
      ],
      "metadata": {
        "colab": {
          "base_uri": "https://localhost:8080/"
        },
        "id": "OZyYSdMQEKw3",
        "outputId": "974e5841-ebe8-4d12-cd97-09c324c80425"
      },
      "execution_count": 57,
      "outputs": [
        {
          "output_type": "stream",
          "name": "stdout",
          "text": [
            " Assessment Year: 2019-20 Number: AVANHPA TAN o Employer; DELRJIAIOD PANof Employee: HVRPS9579P' Verification DIRECIQR (designation) do hereby certify that sum of Rs. LE00 SLNGH; son daughter o SWARNLEELSINGILSOLN working in the capacity o Mundred deducted of Rs. LZ2Z2.0 (Rs. Sexentccn_Lhousand_Lxo Lhousand_Lua Hundred_andScxent_Luo_Onkx (in words)l hns been IRs. ScLcntccn the information given above is true, complete und correct Lue Qnkil has bcen deposited t0 the credit of the Central Government: further certily that Sakcnu is based on the books of account documents, TDS statements, TDS deposited other available records Place ~NEW DELHI (Signature of person responsible for deduction of Tax) Dale 12-Jul-2019 Full Name: RAJNEET SINGH Designation: DIRECTOR Notes: Part B (Annexure) of the certificate in Form No 16 shall be issued by the cmployer ending on 3 Ist March of the financial year shall contain the dctails under employer during the year, Pari 'A\" of the certificate in Fomm No 16 issued for the quarter - Ifan assessee Is employed one which such of tax deducted and deposited for all the quarters of the financial year A of the certificate in Form No 16 pertaining (0 the penod for 3 If an assessce IS employed under more than one employer during theyear cach ofthe employerosha msy 6eass. of che employers or the last cmployer at the option of the assessce the Part B (Annexure) of the certificate in Form No !6 may be issued by cach assessce was employed with each of employers NSDL or UTITSL To update PAN details in Income Tax Department database, apply for 'PAN change request' through Lcgenduscd_in Fqrml6 Status of matching with OLTAS Definition Lcgcnd Description particulars of tax payment Final credit will be reflected only payment Deductors have not deposited taxes or have fumished incorrect Unmatched dctails un bank match_with details of deposit in TDS TCS statement deductors status will be changed to Final (F) on Provisional tax credit is effected only for TDS / TCS Statements fled by Govemment Provisional venfication of payment details submitted by Accounts Officer (PAO) details ofTDS TCS deposited in bank by deductor have matched with the payment details In case of non-govemment deductors, payment deductors, details of TDS / TCS booked in Govemnment mentioned in the TDS TCS statement filed by the deductors of govcrment Final account have been venfied by_Pay & Accounts Oflicer (PAO) matched with details mentioned in the TDS / TCS statement but the Payment details of TDS / TCS deposited in bank by deductor have claimed amount in the statement Or claimed in the statement Final (F) credit will be reflected only when deductor reduces Overbooked amount IS OvET makes new payment fOr_Excess amount claimed in the statement Doaument cerbied Dy PUSHPINDER SINGh ~anpnor Enonoicnovol comy Pigsalpt si9n89 SINGH Date: 2019 112 12.32.47 IST Page 2 of 2 Carliktatc RIJNEEL nnd aum and and and when \"P\" and Pay case TDS TRACES Centralied Fhucessing Ccll TDS Reconciliation Analysis and Correction Enabling System Gavemmant af Indla Incoma Lar Drpartment FORM NO. 16 [See rule 31(Xa)] PART A Certificate under Section 203 of the Income-tax Act; 1961 for t9x deducted 4t source on salary Certilicate No. AVANHPA Last updated on 02-Jun-2019 Name and address of the Employer Name and address of the Employee RENOVO ASSETS PRIVATE LIMITED HIG FLAT NO 369 STH, FLLOR CAT -III BLOCK-B SEC-I8-B, DWARKA PH-[,NEW DELHI _ 110078 AMRITPAL SINGH SIAN Delhi HNO 2515/1, MUKAND PUR ROADBANGANAWANSAHAR  100000 Punjab deepak kumar@renovoassets com Employee Relerence No PAN of thc Deductor TAN of the Deductor PAN of the Employee provided by the Employer (If available) AAHCRS342N DELR3[440D BVRPS9579P CIT (TDS) Assessment Year Period with the Employer The Commissioner of Income Tax (TDS) From To Aayakar Bhawan, District Centre, 6th Floor Room no 610, Hall no 2019-20 01-Apr-2018 31-Mar-2019 Luxmi Delhi 140092 Summary of amount paidcredited and tax deducted at source thereon in respect of the employee Receipt Numbers of original quarterly statements of TDS Amount of tax dcducted Amount of tax deposited remitted Quarter(s) Amount paidlcredited (Rs) under sub-section (3) of (Rs) Section 200 Q1 QTDTTQIC 423645 00 9030 00 9030 00 04 QTNSMSJA 69183 00 8242 00 8242 00 Total (Rs.) 492828.00 17272.00 17272.00 L DETAILS OF TAX DEDUCTED AND DEPOSITED IN THE CENTRAL GOVERNMENT ACCOUNT THROUGH BOOK ADJUSTMENT The deductor t0 provide payment wise details of tax deducted and deposiled wIth respect to the deductee) Book Identification Number (BIN) Tax Deposited in respect of the SL No. deductee Date of transler vouchcr Status of matching Receipt Numbers of Form DDO serial number in Form no. (Rs) No. 24G 24G (ddlmmlyyyy) with Form no. 24G Total (Rs:) I DETAILS OF TAX DEDUCTED AND DEPOSITED IN THE CENTRAL GOVERNMENT ACCOUNT THROUGH CHALLAN (The deductor to provide payment wise details of tax deducted and deposited with respect t0 the deductee) Challan Identilication Number (CIN) Tax Deposited in respect of the SL No. deductec (Rs:) BSR Code of the Bank Date 0n which Tax deposited Challan Serial Number Status of matching with Branch (ddmmlyyyy) OLTAS\" 9030 00 6390340 07-07-2018 33996 3121,00 6390340 06-02.2019 02643 3121 00 6390340 06-03-2019 11301 2000 00 6390340 08-04-2019 05596 Total (Rs ) 17272.00 Page of 2 Nagar,\n",
            "CERTIFICATE NUMBER :  AVANHPA\n",
            "LAST UPDATED :  02-Jun-2019\n",
            "ADDRESS OF EMPLOYER :  FLAT NO 369 STH, FLLOR CAT -III BLOCK-B SEC-I8-B, DWARKA PH-[,NEW DELHI _ 110078\n",
            "DEDUCTER PAN NUMBER :  AAHCRS342N\n",
            "DEDUCTER TAN NUMBER :  DELR3[440D\n",
            "ASSESSMENT YEAR :  2019-20\n",
            "PERIOD WITH EMPLOYER :  01-Apr-2018 31-Mar-2019\n",
            "QUARTER :  17272.00\n"
          ]
        }
      ]
    },
    {
      "cell_type": "code",
      "source": [
        "import json\n",
        "dictn = {}\n",
        "for ent in doc.ents:\n",
        "  #print(ent.label_[0:7])\n",
        "  if(ent.label_[0:7] != 'ADDRESS'):\n",
        "    dictn[ent.label_] = ent\n",
        "print(dictn)\n",
        "json_object = json.dumps(dictn, indent=4)\n",
        " \n",
        "# Writing to sample.json\n",
        "with open(\"prediction.json\", \"w\") as outfile:\n",
        "    outfile.write(json_object)"
      ],
      "metadata": {
        "colab": {
          "base_uri": "https://localhost:8080/",
          "height": 412
        },
        "id": "L7xVPDleVghx",
        "outputId": "97366837-e5d4-4c70-ff89-c1ed85631b4e"
      },
      "execution_count": 71,
      "outputs": [
        {
          "output_type": "stream",
          "name": "stdout",
          "text": [
            "{'CERTIFICATE NUMBER': AVANHPA, 'LAST UPDATED': 02-Jun-2019, 'DEDUCTER PAN NUMBER': AAHCRS342N, 'DEDUCTER TAN NUMBER': DELR3[440D, 'ASSESSMENT YEAR': 2019-20, 'PERIOD WITH EMPLOYER': 01-Apr-2018 31-Mar-2019, 'QUARTER': 17272.00}\n"
          ]
        },
        {
          "output_type": "error",
          "ename": "TypeError",
          "evalue": "ignored",
          "traceback": [
            "\u001b[0;31m---------------------------------------------------------------------------\u001b[0m",
            "\u001b[0;31mTypeError\u001b[0m                                 Traceback (most recent call last)",
            "\u001b[0;32m<ipython-input-71-433272ce1df4>\u001b[0m in \u001b[0;36m<module>\u001b[0;34m()\u001b[0m\n\u001b[1;32m      6\u001b[0m     \u001b[0mdictn\u001b[0m\u001b[0;34m[\u001b[0m\u001b[0ment\u001b[0m\u001b[0;34m.\u001b[0m\u001b[0mlabel_\u001b[0m\u001b[0;34m]\u001b[0m \u001b[0;34m=\u001b[0m \u001b[0ment\u001b[0m\u001b[0;34m\u001b[0m\u001b[0;34m\u001b[0m\u001b[0m\n\u001b[1;32m      7\u001b[0m \u001b[0mprint\u001b[0m\u001b[0;34m(\u001b[0m\u001b[0mdictn\u001b[0m\u001b[0;34m)\u001b[0m\u001b[0;34m\u001b[0m\u001b[0;34m\u001b[0m\u001b[0m\n\u001b[0;32m----> 8\u001b[0;31m \u001b[0mjson_object\u001b[0m \u001b[0;34m=\u001b[0m \u001b[0mjson\u001b[0m\u001b[0;34m.\u001b[0m\u001b[0mdumps\u001b[0m\u001b[0;34m(\u001b[0m\u001b[0mdictn\u001b[0m\u001b[0;34m,\u001b[0m \u001b[0mindent\u001b[0m\u001b[0;34m=\u001b[0m\u001b[0;36m4\u001b[0m\u001b[0;34m)\u001b[0m\u001b[0;34m\u001b[0m\u001b[0;34m\u001b[0m\u001b[0m\n\u001b[0m\u001b[1;32m      9\u001b[0m \u001b[0;34m\u001b[0m\u001b[0m\n\u001b[1;32m     10\u001b[0m \u001b[0;31m# Writing to sample.json\u001b[0m\u001b[0;34m\u001b[0m\u001b[0;34m\u001b[0m\u001b[0;34m\u001b[0m\u001b[0m\n",
            "\u001b[0;32m/usr/lib/python3.7/json/__init__.py\u001b[0m in \u001b[0;36mdumps\u001b[0;34m(obj, skipkeys, ensure_ascii, check_circular, allow_nan, cls, indent, separators, default, sort_keys, **kw)\u001b[0m\n\u001b[1;32m    236\u001b[0m         \u001b[0mcheck_circular\u001b[0m\u001b[0;34m=\u001b[0m\u001b[0mcheck_circular\u001b[0m\u001b[0;34m,\u001b[0m \u001b[0mallow_nan\u001b[0m\u001b[0;34m=\u001b[0m\u001b[0mallow_nan\u001b[0m\u001b[0;34m,\u001b[0m \u001b[0mindent\u001b[0m\u001b[0;34m=\u001b[0m\u001b[0mindent\u001b[0m\u001b[0;34m,\u001b[0m\u001b[0;34m\u001b[0m\u001b[0;34m\u001b[0m\u001b[0m\n\u001b[1;32m    237\u001b[0m         \u001b[0mseparators\u001b[0m\u001b[0;34m=\u001b[0m\u001b[0mseparators\u001b[0m\u001b[0;34m,\u001b[0m \u001b[0mdefault\u001b[0m\u001b[0;34m=\u001b[0m\u001b[0mdefault\u001b[0m\u001b[0;34m,\u001b[0m \u001b[0msort_keys\u001b[0m\u001b[0;34m=\u001b[0m\u001b[0msort_keys\u001b[0m\u001b[0;34m,\u001b[0m\u001b[0;34m\u001b[0m\u001b[0;34m\u001b[0m\u001b[0m\n\u001b[0;32m--> 238\u001b[0;31m         **kw).encode(obj)\n\u001b[0m\u001b[1;32m    239\u001b[0m \u001b[0;34m\u001b[0m\u001b[0m\n\u001b[1;32m    240\u001b[0m \u001b[0;34m\u001b[0m\u001b[0m\n",
            "\u001b[0;32m/usr/lib/python3.7/json/encoder.py\u001b[0m in \u001b[0;36mencode\u001b[0;34m(self, o)\u001b[0m\n\u001b[1;32m    199\u001b[0m         \u001b[0mchunks\u001b[0m \u001b[0;34m=\u001b[0m \u001b[0mself\u001b[0m\u001b[0;34m.\u001b[0m\u001b[0miterencode\u001b[0m\u001b[0;34m(\u001b[0m\u001b[0mo\u001b[0m\u001b[0;34m,\u001b[0m \u001b[0m_one_shot\u001b[0m\u001b[0;34m=\u001b[0m\u001b[0;32mTrue\u001b[0m\u001b[0;34m)\u001b[0m\u001b[0;34m\u001b[0m\u001b[0;34m\u001b[0m\u001b[0m\n\u001b[1;32m    200\u001b[0m         \u001b[0;32mif\u001b[0m \u001b[0;32mnot\u001b[0m \u001b[0misinstance\u001b[0m\u001b[0;34m(\u001b[0m\u001b[0mchunks\u001b[0m\u001b[0;34m,\u001b[0m \u001b[0;34m(\u001b[0m\u001b[0mlist\u001b[0m\u001b[0;34m,\u001b[0m \u001b[0mtuple\u001b[0m\u001b[0;34m)\u001b[0m\u001b[0;34m)\u001b[0m\u001b[0;34m:\u001b[0m\u001b[0;34m\u001b[0m\u001b[0;34m\u001b[0m\u001b[0m\n\u001b[0;32m--> 201\u001b[0;31m             \u001b[0mchunks\u001b[0m \u001b[0;34m=\u001b[0m \u001b[0mlist\u001b[0m\u001b[0;34m(\u001b[0m\u001b[0mchunks\u001b[0m\u001b[0;34m)\u001b[0m\u001b[0;34m\u001b[0m\u001b[0;34m\u001b[0m\u001b[0m\n\u001b[0m\u001b[1;32m    202\u001b[0m         \u001b[0;32mreturn\u001b[0m \u001b[0;34m''\u001b[0m\u001b[0;34m.\u001b[0m\u001b[0mjoin\u001b[0m\u001b[0;34m(\u001b[0m\u001b[0mchunks\u001b[0m\u001b[0;34m)\u001b[0m\u001b[0;34m\u001b[0m\u001b[0;34m\u001b[0m\u001b[0m\n\u001b[1;32m    203\u001b[0m \u001b[0;34m\u001b[0m\u001b[0m\n",
            "\u001b[0;32m/usr/lib/python3.7/json/encoder.py\u001b[0m in \u001b[0;36m_iterencode\u001b[0;34m(o, _current_indent_level)\u001b[0m\n\u001b[1;32m    429\u001b[0m             \u001b[0;32myield\u001b[0m \u001b[0;32mfrom\u001b[0m \u001b[0m_iterencode_list\u001b[0m\u001b[0;34m(\u001b[0m\u001b[0mo\u001b[0m\u001b[0;34m,\u001b[0m \u001b[0m_current_indent_level\u001b[0m\u001b[0;34m)\u001b[0m\u001b[0;34m\u001b[0m\u001b[0;34m\u001b[0m\u001b[0m\n\u001b[1;32m    430\u001b[0m         \u001b[0;32melif\u001b[0m \u001b[0misinstance\u001b[0m\u001b[0;34m(\u001b[0m\u001b[0mo\u001b[0m\u001b[0;34m,\u001b[0m \u001b[0mdict\u001b[0m\u001b[0;34m)\u001b[0m\u001b[0;34m:\u001b[0m\u001b[0;34m\u001b[0m\u001b[0;34m\u001b[0m\u001b[0m\n\u001b[0;32m--> 431\u001b[0;31m             \u001b[0;32myield\u001b[0m \u001b[0;32mfrom\u001b[0m \u001b[0m_iterencode_dict\u001b[0m\u001b[0;34m(\u001b[0m\u001b[0mo\u001b[0m\u001b[0;34m,\u001b[0m \u001b[0m_current_indent_level\u001b[0m\u001b[0;34m)\u001b[0m\u001b[0;34m\u001b[0m\u001b[0;34m\u001b[0m\u001b[0m\n\u001b[0m\u001b[1;32m    432\u001b[0m         \u001b[0;32melse\u001b[0m\u001b[0;34m:\u001b[0m\u001b[0;34m\u001b[0m\u001b[0;34m\u001b[0m\u001b[0m\n\u001b[1;32m    433\u001b[0m             \u001b[0;32mif\u001b[0m \u001b[0mmarkers\u001b[0m \u001b[0;32mis\u001b[0m \u001b[0;32mnot\u001b[0m \u001b[0;32mNone\u001b[0m\u001b[0;34m:\u001b[0m\u001b[0;34m\u001b[0m\u001b[0;34m\u001b[0m\u001b[0m\n",
            "\u001b[0;32m/usr/lib/python3.7/json/encoder.py\u001b[0m in \u001b[0;36m_iterencode_dict\u001b[0;34m(dct, _current_indent_level)\u001b[0m\n\u001b[1;32m    403\u001b[0m                 \u001b[0;32melse\u001b[0m\u001b[0;34m:\u001b[0m\u001b[0;34m\u001b[0m\u001b[0;34m\u001b[0m\u001b[0m\n\u001b[1;32m    404\u001b[0m                     \u001b[0mchunks\u001b[0m \u001b[0;34m=\u001b[0m \u001b[0m_iterencode\u001b[0m\u001b[0;34m(\u001b[0m\u001b[0mvalue\u001b[0m\u001b[0;34m,\u001b[0m \u001b[0m_current_indent_level\u001b[0m\u001b[0;34m)\u001b[0m\u001b[0;34m\u001b[0m\u001b[0;34m\u001b[0m\u001b[0m\n\u001b[0;32m--> 405\u001b[0;31m                 \u001b[0;32myield\u001b[0m \u001b[0;32mfrom\u001b[0m \u001b[0mchunks\u001b[0m\u001b[0;34m\u001b[0m\u001b[0;34m\u001b[0m\u001b[0m\n\u001b[0m\u001b[1;32m    406\u001b[0m         \u001b[0;32mif\u001b[0m \u001b[0mnewline_indent\u001b[0m \u001b[0;32mis\u001b[0m \u001b[0;32mnot\u001b[0m \u001b[0;32mNone\u001b[0m\u001b[0;34m:\u001b[0m\u001b[0;34m\u001b[0m\u001b[0;34m\u001b[0m\u001b[0m\n\u001b[1;32m    407\u001b[0m             \u001b[0m_current_indent_level\u001b[0m \u001b[0;34m-=\u001b[0m \u001b[0;36m1\u001b[0m\u001b[0;34m\u001b[0m\u001b[0;34m\u001b[0m\u001b[0m\n",
            "\u001b[0;32m/usr/lib/python3.7/json/encoder.py\u001b[0m in \u001b[0;36m_iterencode\u001b[0;34m(o, _current_indent_level)\u001b[0m\n\u001b[1;32m    436\u001b[0m                     \u001b[0;32mraise\u001b[0m \u001b[0mValueError\u001b[0m\u001b[0;34m(\u001b[0m\u001b[0;34m\"Circular reference detected\"\u001b[0m\u001b[0;34m)\u001b[0m\u001b[0;34m\u001b[0m\u001b[0;34m\u001b[0m\u001b[0m\n\u001b[1;32m    437\u001b[0m                 \u001b[0mmarkers\u001b[0m\u001b[0;34m[\u001b[0m\u001b[0mmarkerid\u001b[0m\u001b[0;34m]\u001b[0m \u001b[0;34m=\u001b[0m \u001b[0mo\u001b[0m\u001b[0;34m\u001b[0m\u001b[0;34m\u001b[0m\u001b[0m\n\u001b[0;32m--> 438\u001b[0;31m             \u001b[0mo\u001b[0m \u001b[0;34m=\u001b[0m \u001b[0m_default\u001b[0m\u001b[0;34m(\u001b[0m\u001b[0mo\u001b[0m\u001b[0;34m)\u001b[0m\u001b[0;34m\u001b[0m\u001b[0;34m\u001b[0m\u001b[0m\n\u001b[0m\u001b[1;32m    439\u001b[0m             \u001b[0;32myield\u001b[0m \u001b[0;32mfrom\u001b[0m \u001b[0m_iterencode\u001b[0m\u001b[0;34m(\u001b[0m\u001b[0mo\u001b[0m\u001b[0;34m,\u001b[0m \u001b[0m_current_indent_level\u001b[0m\u001b[0;34m)\u001b[0m\u001b[0;34m\u001b[0m\u001b[0;34m\u001b[0m\u001b[0m\n\u001b[1;32m    440\u001b[0m             \u001b[0;32mif\u001b[0m \u001b[0mmarkers\u001b[0m \u001b[0;32mis\u001b[0m \u001b[0;32mnot\u001b[0m \u001b[0;32mNone\u001b[0m\u001b[0;34m:\u001b[0m\u001b[0;34m\u001b[0m\u001b[0;34m\u001b[0m\u001b[0m\n",
            "\u001b[0;32m/usr/lib/python3.7/json/encoder.py\u001b[0m in \u001b[0;36mdefault\u001b[0;34m(self, o)\u001b[0m\n\u001b[1;32m    177\u001b[0m \u001b[0;34m\u001b[0m\u001b[0m\n\u001b[1;32m    178\u001b[0m         \"\"\"\n\u001b[0;32m--> 179\u001b[0;31m         raise TypeError(f'Object of type {o.__class__.__name__} '\n\u001b[0m\u001b[1;32m    180\u001b[0m                         f'is not JSON serializable')\n\u001b[1;32m    181\u001b[0m \u001b[0;34m\u001b[0m\u001b[0m\n",
            "\u001b[0;31mTypeError\u001b[0m: Object of type Span is not JSON serializable"
          ]
        }
      ]
    }
  ]
}
